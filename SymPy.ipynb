{
 "cells": [
  {
   "cell_type": "markdown",
   "metadata": {},
   "source": [
    "# Utilisation de la bibliothèque SymPy (calcul formel sous Python)"
   ]
  },
  {
   "cell_type": "markdown",
   "metadata": {},
   "source": [
    "La documentation complète sur le site offciel de la [librairie SymPy](https://docs.sympy.org/latest/index.html).  \n",
    "Un double clique sur une cellule de texte permet de la modifier, pour l'écriture en markdown voir la documentation sur le [site Markdown](https://www.markdownguide.org/basic-syntax/).  \n",
    "*Pour ceux qui connaisse les commandes [$\\LaTeX$](https://www.latex-project.org/help/documentation/amsldoc.pdf), il est possible d'écrire directement des formules mathématiques.*  \n",
    "  \n",
    "Pour valider une cellule il faut faire : \"Shift + Entrée\" :  \n",
    "\n",
    " ![Shift+Entrée](http://www.contractortalk.com/attachments/f16/39518d1291837912-cleaning-up-another-carpenters-mess-enter-key.jpg)  "
   ]
  },
  {
   "cell_type": "markdown",
   "metadata": {},
   "source": [
    "## Importation de la librairie SymPy :"
   ]
  },
  {
   "cell_type": "markdown",
   "metadata": {},
   "source": [
    "Avant de commencer, il faut importer la librairie SymPy, les fonctions de cette librairie auront comme préambul \"sp\""
   ]
  },
  {
   "cell_type": "code",
   "execution_count": 1,
   "metadata": {},
   "outputs": [],
   "source": [
    "import sympy as sp"
   ]
  },
  {
   "cell_type": "markdown",
   "metadata": {},
   "source": [
    "Par exemple, la fonction cosinus de SymPy est appelée via la commande :"
   ]
  },
  {
   "cell_type": "code",
   "execution_count": 2,
   "metadata": {},
   "outputs": [
    {
     "data": {
      "text/latex": [
       "$\\displaystyle \\cos{\\left(10 \\right)}$"
      ],
      "text/plain": [
       "cos(10)"
      ]
     },
     "execution_count": 2,
     "metadata": {},
     "output_type": "execute_result"
    }
   ],
   "source": [
    "sp.cos(10)"
   ]
  },
  {
   "cell_type": "markdown",
   "metadata": {},
   "source": [
    "Pour avoir une sortie type $\\LaTeX$ (plus facile à lire), il faut appeler la fonction (suivant les version, cette option est appelé par defaut) :"
   ]
  },
  {
   "cell_type": "code",
   "execution_count": 3,
   "metadata": {},
   "outputs": [],
   "source": [
    "sp.init_printing()"
   ]
  },
  {
   "cell_type": "code",
   "execution_count": 4,
   "metadata": {},
   "outputs": [
    {
     "data": {
      "image/png": "[encoded data removed]",
      "text/latex": [
       "$\\displaystyle \\cos{\\left(10 \\right)}$"
      ],
      "text/plain": [
       "cos(10)"
      ]
     },
     "execution_count": 4,
     "metadata": {},
     "output_type": "execute_result"
    }
   ],
   "source": [
    "sp.cos(10)"
   ]
  },
  {
   "cell_type": "markdown",
   "metadata": {},
   "source": [
    "## Définition des variables et fonctions"
   ]
  },
  {
   "cell_type": "markdown",
   "metadata": {},
   "source": [
    "La définition des variables symboliques se fait de la manière suivante :"
   ]
  },
  {
   "cell_type": "code",
   "execution_count": 5,
   "metadata": {},
   "outputs": [],
   "source": [
    "a , b1 , nu, t = sp.symbols('a,b_1,nu,t')"
   ]
  },
  {
   "cell_type": "code",
   "execution_count": 6,
   "metadata": {},
   "outputs": [
    {
     "data": {
      "image/png": "[encoded data removed]",
      "text/latex": [
       "$\\displaystyle a$"
      ],
      "text/plain": [
       "a"
      ]
     },
     "metadata": {},
     "output_type": "display_data"
    },
    {
     "data": {
      "image/png": "[encoded data removed]",
      "text/latex": [
       "$\\displaystyle b_{1}$"
      ],
      "text/plain": [
       "b₁"
      ]
     },
     "metadata": {},
     "output_type": "display_data"
    },
    {
     "data": {
      "image/png": "[encoded data removed]",
      "text/latex": [
       "$\\displaystyle \\nu$"
      ],
      "text/plain": [
       "ν"
      ]
     },
     "metadata": {},
     "output_type": "display_data"
    },
    {
     "data": {
      "image/png": "[encoded data removed]",
      "text/latex": [
       "$\\displaystyle t$"
      ],
      "text/plain": [
       "t"
      ]
     },
     "metadata": {},
     "output_type": "display_data"
    }
   ],
   "source": [
    "display(a , b1 , nu, t)"
   ]
  },
  {
   "cell_type": "markdown",
   "metadata": {},
   "source": [
    "Pour les fonctions, la synthaxe est identique mais on ajoute l'option \"cls=Function\" :"
   ]
  },
  {
   "cell_type": "code",
   "execution_count": 8,
   "metadata": {},
   "outputs": [
    {
     "data": {
      "image/png": "[encoded data removed]",
      "text/latex": [
       "$\\displaystyle \\theta{\\left(t \\right)}$"
      ],
      "text/plain": [
       "θ(t)"
      ]
     },
     "metadata": {},
     "output_type": "display_data"
    },
    {
     "data": {
      "image/png": "[encoded data removed]",
      "text/latex": [
       "$\\displaystyle f{\\left(t \\right)}$"
      ],
      "text/plain": [
       "f(t)"
      ]
     },
     "metadata": {},
     "output_type": "display_data"
    },
    {
     "data": {
      "image/png": "[encoded data removed]",
      "text/latex": [
       "$\\displaystyle g{\\left(\\nu \\right)}$"
      ],
      "text/plain": [
       "g(ν)"
      ]
     },
     "metadata": {},
     "output_type": "display_data"
    }
   ],
   "source": [
    "th, f, g = sp.symbols('theta, f, g',cls=sp.Function)\n",
    "display(th(t),f(t),g(nu))"
   ]
  },
  {
   "cell_type": "markdown",
   "metadata": {},
   "source": [
    "## Définition d'un vecteur"
   ]
  },
  {
   "cell_type": "markdown",
   "metadata": {},
   "source": [
    "### Première possibilité"
   ]
  },
  {
   "cell_type": "markdown",
   "metadata": {},
   "source": [
    "Un vecteur peut être défini comme une matrice d'une ligne (ou colonne) :"
   ]
  },
  {
   "cell_type": "code",
   "execution_count": 9,
   "metadata": {},
   "outputs": [
    {
     "data": {
      "image/png": "[encoded data removed]",
      "text/latex": [
       "$\\displaystyle \\left[\\begin{matrix}a \\sin{\\left(\\theta{\\left(t \\right)} \\right)}\\\\- a \\nu\\end{matrix}\\right]$"
      ],
      "text/plain": [
       "⎡a⋅sin(θ(t))⎤\n",
       "⎢           ⎥\n",
       "⎣   -a⋅ν    ⎦"
      ]
     },
     "metadata": {},
     "output_type": "display_data"
    },
    {
     "data": {
      "image/png": "[encoded data removed]",
      "text/latex": [
       "$\\displaystyle \\left[\\begin{matrix}a \\sin{\\left(\\theta{\\left(t \\right)} \\right)} + b_{1} \\nu\\\\- a \\nu - b_{1} e^{f{\\left(t \\right)}}\\end{matrix}\\right]$"
      ],
      "text/plain": [
       "⎡a⋅sin(θ(t)) + b₁⋅ν⎤\n",
       "⎢                  ⎥\n",
       "⎢            f(t)  ⎥\n",
       "⎣ -a⋅ν - b₁⋅ℯ      ⎦"
      ]
     },
     "metadata": {},
     "output_type": "display_data"
    }
   ],
   "source": [
    "OA=a*sp.Matrix([sp.sin(th(t)),-nu])\n",
    "OB=OA + b1*sp.Matrix([nu,-sp.exp(f(t))])\n",
    "display(OA,OB)"
   ]
  },
  {
   "cell_type": "markdown",
   "metadata": {},
   "source": [
    "Pour les opérations comme le produit scalaire, il faut être vigilant sur l'ordre des vecteurs, on pourra transposer le vecteur avec la fonction \"T\" :"
   ]
  },
  {
   "cell_type": "code",
   "execution_count": 10,
   "metadata": {},
   "outputs": [
    {
     "data": {
      "image/png": "[encoded data removed]",
      "text/latex": [
       "$\\displaystyle \\left[\\begin{matrix}a \\sin{\\left(\\theta{\\left(t \\right)} \\right)}\\\\- a \\nu\\end{matrix}\\right]$"
      ],
      "text/plain": [
       "⎡a⋅sin(θ(t))⎤\n",
       "⎢           ⎥\n",
       "⎣   -a⋅ν    ⎦"
      ]
     },
     "metadata": {},
     "output_type": "display_data"
    },
    {
     "data": {
      "image/png": "[encoded data removed]",
      "text/latex": [
       "$\\displaystyle \\left[\\begin{matrix}a \\sin{\\left(\\theta{\\left(t \\right)} \\right)} & - a \\nu\\end{matrix}\\right]$"
      ],
      "text/plain": [
       "[a⋅sin(θ(t))  -a⋅ν]"
      ]
     },
     "metadata": {},
     "output_type": "display_data"
    }
   ],
   "source": [
    "display(OA,OA.T)"
   ]
  },
  {
   "cell_type": "markdown",
   "metadata": {},
   "source": [
    "### Seconde possibilité"
   ]
  },
  {
   "cell_type": "markdown",
   "metadata": {},
   "source": [
    "On importe le sous module \"vector\" de la librairie sympy :"
   ]
  },
  {
   "cell_type": "code",
   "execution_count": 14,
   "metadata": {},
   "outputs": [],
   "source": [
    "from sympy.vector import CoordSys3D"
   ]
  },
  {
   "cell_type": "markdown",
   "metadata": {},
   "source": [
    "Il faut définir le nom du repère (i,j,k) :"
   ]
  },
  {
   "cell_type": "code",
   "execution_count": 15,
   "metadata": {},
   "outputs": [],
   "source": [
    "O=CoordSys3D('O')"
   ]
  },
  {
   "cell_type": "markdown",
   "metadata": {},
   "source": [
    "On peut ainsi définir les vecteur en fonction du repère :"
   ]
  },
  {
   "cell_type": "code",
   "execution_count": 16,
   "metadata": {},
   "outputs": [
    {
     "data": {
      "image/png": "[encoded data removed]",
      "text/latex": [
       "$\\displaystyle (a \\sin{\\left(\\theta{\\left(t \\right)} \\right)})\\mathbf{\\hat{i}_{O}} + (- a \\nu)\\mathbf{\\hat{j}_{O}}$"
      ],
      "text/plain": [
       "(a*sin(theta(t)))*O.i + (-a*nu)*O.j"
      ]
     },
     "metadata": {},
     "output_type": "display_data"
    },
    {
     "data": {
      "image/png": "[encoded data removed]",
      "text/latex": [
       "$\\displaystyle (a \\sin{\\left(\\theta{\\left(t \\right)} \\right)} + b_{1} \\nu)\\mathbf{\\hat{i}_{O}} + (- a \\nu - b_{1} e^{f{\\left(t \\right)}})\\mathbf{\\hat{j}_{O}}$"
      ],
      "text/plain": [
       "(a*sin(theta(t)) + b_1*nu)*O.i + (-a*nu - b_1*exp(f(t)))*O.j"
      ]
     },
     "metadata": {},
     "output_type": "display_data"
    }
   ],
   "source": [
    "OAo=a*(sp.sin(th(t))*O.i-nu*O.j)\n",
    "OBo=OAo + b1*(nu*O.i-sp.exp(f(t))*O.j)\n",
    "display(OAo)\n",
    "display(OBo)"
   ]
  },
  {
   "cell_type": "markdown",
   "metadata": {},
   "source": [
    "## Opérations"
   ]
  },
  {
   "cell_type": "markdown",
   "metadata": {},
   "source": [
    "Les opérateurs de base sont pour :\n",
    "- l'addition : \"+\"\n",
    "- la soustraction : \"-\" \n",
    "- la multiplication : \"*\" \n",
    "- la puissance : \"**\""
   ]
  },
  {
   "cell_type": "code",
   "execution_count": 17,
   "metadata": {},
   "outputs": [
    {
     "data": {
      "image/png": "[encoded data removed]",
      "text/latex": [
       "$\\displaystyle 42.0$"
      ],
      "text/plain": [
       "42.0"
      ]
     },
     "metadata": {},
     "output_type": "display_data"
    },
    {
     "data": {
      "image/png": "[encoded data removed]",
      "text/latex": [
       "$\\displaystyle 42.0$"
      ],
      "text/plain": [
       "42.0"
      ]
     },
     "metadata": {},
     "output_type": "display_data"
    },
    {
     "data": {
      "image/png": "[encoded data removed]",
      "text/latex": [
       "$\\displaystyle 42.0$"
      ],
      "text/plain": [
       "42.0"
      ]
     },
     "metadata": {},
     "output_type": "display_data"
    },
    {
     "data": {
      "image/png": "[encoded data removed]",
      "text/latex": [
       "$\\displaystyle 42.0$"
      ],
      "text/plain": [
       "42.0"
      ]
     },
     "metadata": {},
     "output_type": "display_data"
    }
   ],
   "source": [
    "display(41.+1,43.-1,21*2.,(-42**0.5)**2)"
   ]
  },
  {
   "cell_type": "markdown",
   "metadata": {},
   "source": [
    "### Dérivée"
   ]
  },
  {
   "cell_type": "markdown",
   "metadata": {},
   "source": [
    "Suivant une variable :"
   ]
  },
  {
   "cell_type": "code",
   "execution_count": 18,
   "metadata": {},
   "outputs": [
    {
     "data": {
      "image/png": "[encoded data removed]",
      "text/latex": [
       "$\\displaystyle - 4 t e^{t^{2}} \\sin{\\left(e^{t^{2}} \\right)} \\cos{\\left(e^{t^{2}} \\right)} + 2 t$"
      ],
      "text/plain": [
       "       ⎛ 2⎞    ⎛ ⎛ 2⎞⎞    ⎛ ⎛ 2⎞⎞      \n",
       "       ⎝t ⎠    ⎜ ⎝t ⎠⎟    ⎜ ⎝t ⎠⎟      \n",
       "- 4⋅t⋅ℯ    ⋅sin⎝ℯ    ⎠⋅cos⎝ℯ    ⎠ + 2⋅t"
      ]
     },
     "execution_count": 18,
     "metadata": {},
     "output_type": "execute_result"
    }
   ],
   "source": [
    "sp.diff(t**2+sp.cos(sp.exp(t**2))**2,t)"
   ]
  },
  {
   "cell_type": "code",
   "execution_count": 19,
   "metadata": {},
   "outputs": [
    {
     "data": {
      "image/png": "[encoded data removed]",
      "text/latex": [
       "$\\displaystyle 8 t \\left(8 t^{2} e^{2 t^{2}} \\sin{\\left(e^{t^{2}} \\right)} \\cos{\\left(e^{t^{2}} \\right)} + 6 t^{2} e^{t^{2}} \\sin^{2}{\\left(e^{t^{2}} \\right)} - 6 t^{2} e^{t^{2}} \\cos^{2}{\\left(e^{t^{2}} \\right)} - 2 t^{2} \\sin{\\left(e^{t^{2}} \\right)} \\cos{\\left(e^{t^{2}} \\right)} + 3 e^{t^{2}} \\sin^{2}{\\left(e^{t^{2}} \\right)} - 3 e^{t^{2}} \\cos^{2}{\\left(e^{t^{2}} \\right)} - 3 \\sin{\\left(e^{t^{2}} \\right)} \\cos{\\left(e^{t^{2}} \\right)}\\right) e^{t^{2}}$"
      ],
      "text/plain": [
       "    ⎛         2    ⎛ ⎛ 2⎞⎞    ⎛ ⎛ 2⎞⎞         ⎛ 2⎞     ⎛ ⎛ 2⎞⎞         ⎛ 2⎞   \n",
       "    ⎜   2  2⋅t     ⎜ ⎝t ⎠⎟    ⎜ ⎝t ⎠⎟      2  ⎝t ⎠    2⎜ ⎝t ⎠⎟      2  ⎝t ⎠   \n",
       "8⋅t⋅⎝8⋅t ⋅ℯ    ⋅sin⎝ℯ    ⎠⋅cos⎝ℯ    ⎠ + 6⋅t ⋅ℯ    ⋅sin ⎝ℯ    ⎠ - 6⋅t ⋅ℯ    ⋅co\n",
       "\n",
       "  ⎛ ⎛ 2⎞⎞           ⎛ ⎛ 2⎞⎞    ⎛ ⎛ 2⎞⎞      ⎛ 2⎞     ⎛ ⎛ 2⎞⎞      ⎛ 2⎞     ⎛ ⎛\n",
       " 2⎜ ⎝t ⎠⎟      2    ⎜ ⎝t ⎠⎟    ⎜ ⎝t ⎠⎟      ⎝t ⎠    2⎜ ⎝t ⎠⎟      ⎝t ⎠    2⎜ ⎝\n",
       "s ⎝ℯ    ⎠ - 2⋅t ⋅sin⎝ℯ    ⎠⋅cos⎝ℯ    ⎠ + 3⋅ℯ    ⋅sin ⎝ℯ    ⎠ - 3⋅ℯ    ⋅cos ⎝ℯ \n",
       "\n",
       " 2⎞⎞        ⎛ ⎛ 2⎞⎞    ⎛ ⎛ 2⎞⎞⎞  ⎛ 2⎞\n",
       "t ⎠⎟        ⎜ ⎝t ⎠⎟    ⎜ ⎝t ⎠⎟⎟  ⎝t ⎠\n",
       "   ⎠ - 3⋅sin⎝ℯ    ⎠⋅cos⎝ℯ    ⎠⎠⋅ℯ    "
      ]
     },
     "execution_count": 19,
     "metadata": {},
     "output_type": "execute_result"
    }
   ],
   "source": [
    "sp.diff(t**2+sp.cos(sp.exp(t**2))**2,t,3)"
   ]
  },
  {
   "cell_type": "markdown",
   "metadata": {},
   "source": [
    "Suivant plusieurs variables :"
   ]
  },
  {
   "cell_type": "code",
   "execution_count": 20,
   "metadata": {},
   "outputs": [
    {
     "data": {
      "image/png": "[encoded data removed]",
      "text/latex": [
       "$\\displaystyle - 2 a \\sin{\\left(\\theta{\\left(t \\right)} \\right)} \\cos{\\left(\\theta{\\left(t \\right)} \\right)} \\frac{d}{d t} \\theta{\\left(t \\right)}$"
      ],
      "text/plain": [
       "                         d       \n",
       "-2⋅a⋅sin(θ(t))⋅cos(θ(t))⋅──(θ(t))\n",
       "                         dt      "
      ]
     },
     "execution_count": 20,
     "metadata": {},
     "output_type": "execute_result"
    }
   ],
   "source": [
    "sp.diff(a*b1*sp.cos(th(t))**2,b1,t)"
   ]
  },
  {
   "cell_type": "markdown",
   "metadata": {},
   "source": [
    "### Integrale"
   ]
  },
  {
   "cell_type": "code",
   "execution_count": 21,
   "metadata": {},
   "outputs": [
    {
     "data": {
      "image/png": "[encoded data removed]",
      "text/latex": [
       "$\\displaystyle 25 \\sqrt{\\pi} \\operatorname{erfi}{\\left(1 \\right)}$"
      ],
      "text/plain": [
       "25⋅√π⋅erfi(1)"
      ]
     },
     "execution_count": 21,
     "metadata": {},
     "output_type": "execute_result"
    }
   ],
   "source": [
    "sp.integrate(a*sp.exp(t**2),(t,0,1),(a,0,10))"
   ]
  },
  {
   "cell_type": "markdown",
   "metadata": {},
   "source": [
    "### Produit scalaire"
   ]
  },
  {
   "cell_type": "code",
   "execution_count": 22,
   "metadata": {},
   "outputs": [
    {
     "data": {
      "image/png": "[encoded data removed]",
      "text/latex": [
       "$\\displaystyle \\left[\\begin{matrix}\\left(- a \\nu - b_{1} e^{f{\\left(t \\right)}}\\right)^{2} + \\left(a \\sin{\\left(\\theta{\\left(t \\right)} \\right)} + b_{1} \\nu\\right)^{2}\\end{matrix}\\right]$"
      ],
      "text/plain": [
       "⎡                 2                        ⎤\n",
       "⎢⎛           f(t)⎞                        2⎥\n",
       "⎣⎝-a⋅ν - b₁⋅ℯ    ⎠  + (a⋅sin(θ(t)) + b₁⋅ν) ⎦"
      ]
     },
     "metadata": {},
     "output_type": "display_data"
    },
    {
     "data": {
      "image/png": "[encoded data removed]",
      "text/latex": [
       "$\\displaystyle \\left(- a \\nu - b_{1} e^{f{\\left(t \\right)}}\\right)^{2} + \\left(a \\sin{\\left(\\theta{\\left(t \\right)} \\right)} + b_{1} \\nu\\right)^{2}$"
      ],
      "text/plain": [
       "                 2                        \n",
       "⎛           f(t)⎞                        2\n",
       "⎝-a⋅ν - b₁⋅ℯ    ⎠  + (a⋅sin(θ(t)) + b₁⋅ν) "
      ]
     },
     "metadata": {},
     "output_type": "display_data"
    }
   ],
   "source": [
    "display(OB.T*OB)\n",
    "display(OBo.dot(OBo))"
   ]
  },
  {
   "cell_type": "markdown",
   "metadata": {},
   "source": [
    "### Résolution de système d'équation"
   ]
  },
  {
   "cell_type": "code",
   "execution_count": 25,
   "metadata": {},
   "outputs": [
    {
     "data": {
      "image/png": "[encoded data removed]",
      "text/latex": [
       "$\\displaystyle \\left\\{\\left( - a, \\  a\\right)\\right\\}$"
      ],
      "text/plain": [
       "{(-a, a)}"
      ]
     },
     "metadata": {},
     "output_type": "display_data"
    },
    {
     "data": {
      "image/png": "[encoded data removed]",
      "text/latex": [
       "$\\displaystyle - a$"
      ],
      "text/plain": [
       "-a"
      ]
     },
     "metadata": {},
     "output_type": "display_data"
    }
   ],
   "source": [
    "Expr=[2*a+b1-nu,nu+b1]\n",
    "Resu=sp.linsolve(Expr,b1, nu)\n",
    "display(Resu)\n",
    "display(Resu.args[0][0])"
   ]
  },
  {
   "cell_type": "markdown",
   "metadata": {},
   "source": [
    "### Simplifications"
   ]
  },
  {
   "cell_type": "code",
   "execution_count": 26,
   "metadata": {},
   "outputs": [
    {
     "data": {
      "image/png": "[encoded data removed]",
      "text/latex": [
       "$\\displaystyle t^{2} + 2 t + 1$"
      ],
      "text/plain": [
       " 2          \n",
       "t  + 2⋅t + 1"
      ]
     },
     "execution_count": 26,
     "metadata": {},
     "output_type": "execute_result"
    }
   ],
   "source": [
    "sp.simplify(t**2+2*t+1)"
   ]
  },
  {
   "cell_type": "code",
   "execution_count": 27,
   "metadata": {},
   "outputs": [
    {
     "data": {
      "image/png": "[encoded data removed]",
      "text/latex": [
       "$\\displaystyle \\left(t + 1\\right)^{2}$"
      ],
      "text/plain": [
       "       2\n",
       "(t + 1) "
      ]
     },
     "execution_count": 27,
     "metadata": {},
     "output_type": "execute_result"
    }
   ],
   "source": [
    "sp.factor(t**2+2*t+1)"
   ]
  },
  {
   "cell_type": "code",
   "execution_count": 28,
   "metadata": {},
   "outputs": [
    {
     "data": {
      "image/png": "[encoded data removed]",
      "text/latex": [
       "$\\displaystyle t^{5} + 5 t^{4} + 10 t^{3} + 10 t^{2} + 5 t + 1$"
      ],
      "text/plain": [
       " 5      4       3       2          \n",
       "t  + 5⋅t  + 10⋅t  + 10⋅t  + 5⋅t + 1"
      ]
     },
     "execution_count": 28,
     "metadata": {},
     "output_type": "execute_result"
    }
   ],
   "source": [
    "sp.expand((t+1)**5)"
   ]
  },
  {
   "cell_type": "markdown",
   "metadata": {},
   "source": [
    "### Divers"
   ]
  },
  {
   "cell_type": "markdown",
   "metadata": {},
   "source": [
    "Pour remplacer une variable on utilise la fonction \"subs\" :"
   ]
  },
  {
   "cell_type": "code",
   "execution_count": 29,
   "metadata": {},
   "outputs": [
    {
     "data": {
      "image/png": "[encoded data removed]",
      "text/latex": [
       "$\\displaystyle \\left(a + b_{1}\\right)^{2}$"
      ],
      "text/plain": [
       "        2\n",
       "(a + b₁) "
      ]
     },
     "metadata": {},
     "output_type": "display_data"
    },
    {
     "data": {
      "image/png": "[encoded data removed]",
      "text/latex": [
       "$\\displaystyle 9 b_{1}^{2}$"
      ],
      "text/plain": [
       "    2\n",
       "9⋅b₁ "
      ]
     },
     "metadata": {},
     "output_type": "display_data"
    },
    {
     "data": {
      "image/png": "[encoded data removed]",
      "text/latex": [
       "$\\displaystyle 9 \\left(- a + b_{1}\\right)^{2}$"
      ],
      "text/plain": [
       "           2\n",
       "9⋅(-a + b₁) "
      ]
     },
     "metadata": {},
     "output_type": "display_data"
    },
    {
     "data": {
      "image/png": "[encoded data removed]",
      "text/latex": [
       "$\\displaystyle 9 \\left(a - b_{1}\\right)^{2}$"
      ],
      "text/plain": [
       "          2\n",
       "9⋅(a - b₁) "
      ]
     },
     "metadata": {},
     "output_type": "display_data"
    }
   ],
   "source": [
    "E1=(a+b1)**2\n",
    "display(E1)\n",
    "E1=E1.subs(a,2*b1)\n",
    "display(E1)\n",
    "E1=E1.subs([(b1,-a),(a,b1-a)])\n",
    "display(E1)\n",
    "display(sp.simplify(E1))"
   ]
  },
  {
   "cell_type": "markdown",
   "metadata": {},
   "source": [
    "# Exemple d'application"
   ]
  },
  {
   "cell_type": "markdown",
   "metadata": {},
   "source": [
    "*Nous allons traiter l'exemple du double pendule libre suivant :*"
   ]
  },
  {
   "cell_type": "markdown",
   "metadata": {},
   "source": [
    " ![Double pendule](https://external-content.duckduckgo.com/iu/?u=http%3A%2F%2Fwww.vetopsy.fr%2Fmecanique-quantique%2Fimages%2Fdouble-pendule.jpg&f=1&nofb=1)"
   ]
  },
  {
   "cell_type": "markdown",
   "metadata": {},
   "source": [
    "Importation des librairies et définitions des variables et fonctions :"
   ]
  },
  {
   "cell_type": "code",
   "execution_count": 30,
   "metadata": {},
   "outputs": [],
   "source": [
    "import sympy as sp\n",
    "from sympy.vector import CoordSys3D\n",
    "O=CoordSys3D('O')\n",
    "l1, l2, m1, m2, t, g = sp.symbols('l1, l2, m1, m2, t, g')\n",
    "th1, th2 = sp.symbols('theta1, theta2',cls=sp.Function)"
   ]
  },
  {
   "cell_type": "markdown",
   "metadata": {},
   "source": [
    "## Définition des vecteurs liés aux masses ponctuelles"
   ]
  },
  {
   "cell_type": "code",
   "execution_count": 31,
   "metadata": {},
   "outputs": [
    {
     "data": {
      "text/plain": [
       "'OM1 :'"
      ]
     },
     "metadata": {},
     "output_type": "display_data"
    },
    {
     "data": {
      "image/png": "[encoded data removed]",
      "text/latex": [
       "$\\displaystyle (l_{1} \\sin{\\left(\\theta_{1}{\\left(t \\right)} \\right)})\\mathbf{\\hat{i}_{O}} + (- l_{1} \\cos{\\left(\\theta_{1}{\\left(t \\right)} \\right)})\\mathbf{\\hat{j}_{O}}$"
      ],
      "text/plain": [
       "(l1*sin(theta1(t)))*O.i + (-l1*cos(theta1(t)))*O.j"
      ]
     },
     "metadata": {},
     "output_type": "display_data"
    },
    {
     "data": {
      "text/plain": [
       "'OM2 :'"
      ]
     },
     "metadata": {},
     "output_type": "display_data"
    },
    {
     "data": {
      "image/png": "[encoded data removed]",
      "text/latex": [
       "$\\displaystyle (l_{1} \\sin{\\left(\\theta_{1}{\\left(t \\right)} \\right)} + l_{2} \\sin{\\left(\\theta_{2}{\\left(t \\right)} \\right)})\\mathbf{\\hat{i}_{O}} + (- l_{1} \\cos{\\left(\\theta_{1}{\\left(t \\right)} \\right)} - l_{2} \\cos{\\left(\\theta_{2}{\\left(t \\right)} \\right)})\\mathbf{\\hat{j}_{O}}$"
      ],
      "text/plain": [
       "(l1*sin(theta1(t)) + l2*sin(theta2(t)))*O.i + (-l1*cos(theta1(t)) - l2*cos(theta2(t)))*O.j"
      ]
     },
     "metadata": {},
     "output_type": "display_data"
    }
   ],
   "source": [
    "O=CoordSys3D('O')\n",
    "OM1=l1*(sp.sin(th1(t))*O.i-sp.cos(th1(t))*O.j)\n",
    "OM2=sp.simplify(OM1 + l2*(sp.sin(th2(t))*O.i-sp.cos(th2(t))*O.j))\n",
    "display(\"OM1 :\" , OM1,\"OM2 :\" , OM2)"
   ]
  },
  {
   "cell_type": "markdown",
   "metadata": {},
   "source": [
    "## Calcul de l'énergie cinétique"
   ]
  },
  {
   "cell_type": "code",
   "execution_count": 32,
   "metadata": {},
   "outputs": [
    {
     "data": {
      "text/plain": [
       "'Energie cinétique :'"
      ]
     },
     "metadata": {},
     "output_type": "display_data"
    },
    {
     "data": {
      "image/png": "[encoded data removed]",
      "text/latex": [
       "$\\displaystyle \\frac{l_{1}^{2} m_{1} \\left(\\frac{d}{d t} \\theta_{1}{\\left(t \\right)}\\right)^{2}}{2} + \\frac{m_{2} \\left(l_{1}^{2} \\left(\\frac{d}{d t} \\theta_{1}{\\left(t \\right)}\\right)^{2} + 2 l_{1} l_{2} \\cos{\\left(\\theta_{1}{\\left(t \\right)} - \\theta_{2}{\\left(t \\right)} \\right)} \\frac{d}{d t} \\theta_{1}{\\left(t \\right)} \\frac{d}{d t} \\theta_{2}{\\left(t \\right)} + l_{2}^{2} \\left(\\frac{d}{d t} \\theta_{2}{\\left(t \\right)}\\right)^{2}\\right)}{2}$"
      ],
      "text/plain": [
       "                  2      ⎛               2                                    \n",
       "  2    ⎛d        ⎞       ⎜  2 ⎛d        ⎞                               d     \n",
       "l₁ ⋅m₁⋅⎜──(θ₁(t))⎟    m₂⋅⎜l₁ ⋅⎜──(θ₁(t))⎟  + 2⋅l₁⋅l₂⋅cos(θ₁(t) - θ₂(t))⋅──(θ₁(\n",
       "       ⎝dt       ⎠       ⎝    ⎝dt       ⎠                               dt    \n",
       "─────────────────── + ────────────────────────────────────────────────────────\n",
       "         2                                                        2           \n",
       "\n",
       "                               2⎞\n",
       "    d             2 ⎛d        ⎞ ⎟\n",
       "t))⋅──(θ₂(t)) + l₂ ⋅⎜──(θ₂(t))⎟ ⎟\n",
       "    dt              ⎝dt       ⎠ ⎠\n",
       "─────────────────────────────────\n",
       "                                 "
      ]
     },
     "metadata": {},
     "output_type": "display_data"
    }
   ],
   "source": [
    "Ec=(m1*sp.diff(OM1,t).dot(sp.diff(OM1,t))+m2*sp.diff(OM2,t).dot(sp.diff(OM2,t)))/2\n",
    "Ec=sp.simplify(Ec)\n",
    "display(\"Energie cinétique :\" , Ec)"
   ]
  },
  {
   "cell_type": "markdown",
   "metadata": {},
   "source": [
    "Hypothèse des petites perturbations :  \n",
    "$\\theta_1 \\approx 0$  \n",
    "$\\theta_2 \\approx 0$  \n",
    "$\\theta_1$ et $\\theta_2$ $\\ll$ $\\dot{\\theta_1}$ et $\\dot{\\theta_2}$  \n"
   ]
  },
  {
   "cell_type": "code",
   "execution_count": 33,
   "metadata": {},
   "outputs": [
    {
     "data": {
      "image/png": "[encoded data removed]",
      "text/latex": [
       "$\\displaystyle \\frac{l_{1}^{2} m_{1} \\left(\\frac{d}{d t} \\theta_{1}{\\left(t \\right)}\\right)^{2}}{2} + \\frac{m_{2} \\left(l_{1}^{2} \\left(\\frac{d}{d t} \\theta_{1}{\\left(t \\right)}\\right)^{2} + 2 l_{1} l_{2} \\frac{d}{d t} \\theta_{1}{\\left(t \\right)} \\frac{d}{d t} \\theta_{2}{\\left(t \\right)} + l_{2}^{2} \\left(\\frac{d}{d t} \\theta_{2}{\\left(t \\right)}\\right)^{2}\\right)}{2}$"
      ],
      "text/plain": [
       "                  2      ⎛               2                                    \n",
       "  2    ⎛d        ⎞       ⎜  2 ⎛d        ⎞            d         d             2\n",
       "l₁ ⋅m₁⋅⎜──(θ₁(t))⎟    m₂⋅⎜l₁ ⋅⎜──(θ₁(t))⎟  + 2⋅l₁⋅l₂⋅──(θ₁(t))⋅──(θ₂(t)) + l₂ \n",
       "       ⎝dt       ⎠       ⎝    ⎝dt       ⎠            dt        dt             \n",
       "─────────────────── + ────────────────────────────────────────────────────────\n",
       "         2                                              2                     \n",
       "\n",
       "            2⎞\n",
       " ⎛d        ⎞ ⎟\n",
       "⋅⎜──(θ₂(t))⎟ ⎟\n",
       " ⎝dt       ⎠ ⎠\n",
       "──────────────\n",
       "              "
      ]
     },
     "metadata": {},
     "output_type": "display_data"
    }
   ],
   "source": [
    "Ec=Ec.subs(([(sp.cos(th1(t)-th2(t)),1)]))\n",
    "display(Ec)"
   ]
  },
  {
   "cell_type": "markdown",
   "metadata": {},
   "source": [
    "On notera pour simplifier les écritures : "
   ]
  },
  {
   "cell_type": "code",
   "execution_count": 34,
   "metadata": {},
   "outputs": [],
   "source": [
    "dth1 =sp.diff(th1(t),t)\n",
    "dth2 =sp.diff(th2(t),t)"
   ]
  },
  {
   "cell_type": "markdown",
   "metadata": {},
   "source": [
    "Matrice de masse :"
   ]
  },
  {
   "cell_type": "code",
   "execution_count": 35,
   "metadata": {},
   "outputs": [
    {
     "data": {
      "image/png": "[encoded data removed]",
      "text/latex": [
       "$\\displaystyle \\left[\\begin{matrix}l_{1}^{2} \\left(m_{1} + m_{2}\\right) & l_{1} l_{2} m_{2}\\\\l_{1} l_{2} m_{2} & l_{2}^{2} m_{2}\\end{matrix}\\right]$"
      ],
      "text/plain": [
       "⎡  2                    ⎤\n",
       "⎢l₁ ⋅(m₁ + m₂)  l₁⋅l₂⋅m₂⎥\n",
       "⎢                       ⎥\n",
       "⎢                  2    ⎥\n",
       "⎣  l₁⋅l₂⋅m₂      l₂ ⋅m₂ ⎦"
      ]
     },
     "metadata": {},
     "output_type": "display_data"
    }
   ],
   "source": [
    "M=sp.Matrix([[sp.diff(Ec,dth1,dth1),sp.diff(Ec,dth1,dth2)],\n",
    "            [sp.diff(Ec,dth2,dth1),sp.diff(Ec,dth2,dth2)]])\n",
    "display(M)"
   ]
  },
  {
   "cell_type": "markdown",
   "metadata": {},
   "source": [
    "## Calcul de l'énergie potentielle"
   ]
  },
  {
   "cell_type": "code",
   "execution_count": 36,
   "metadata": {},
   "outputs": [
    {
     "data": {
      "text/plain": [
       "'Energie potentielle :'"
      ]
     },
     "metadata": {},
     "output_type": "display_data"
    },
    {
     "data": {
      "image/png": "[encoded data removed]",
      "text/latex": [
       "$\\displaystyle - g \\left(l_{1} m_{1} \\left(\\cos{\\left(\\theta_{1}{\\left(t \\right)} \\right)} - 1\\right) + m_{2} \\left(l_{1} \\cos{\\left(\\theta_{1}{\\left(t \\right)} \\right)} - l_{1} + l_{2} \\cos{\\left(\\theta_{2}{\\left(t \\right)} \\right)} - l_{2}\\right)\\right)$"
      ],
      "text/plain": [
       "-g⋅(l₁⋅m₁⋅(cos(θ₁(t)) - 1) + m₂⋅(l₁⋅cos(θ₁(t)) - l₁ + l₂⋅cos(θ₂(t)) - l₂))"
      ]
     },
     "metadata": {},
     "output_type": "display_data"
    }
   ],
   "source": [
    "Ep=g*(m1*(OM1-OM1.subs(th1(t),0)).dot(O.j)+m2*(OM2-OM2.subs(([(th1(t),0), (th2(t),0)]))).dot(O.j))\n",
    "Ep=sp.simplify(Ep)\n",
    "display(\"Energie potentielle :\" , Ep)"
   ]
  },
  {
   "cell_type": "markdown",
   "metadata": {},
   "source": [
    "Hypothèse des petites perturbations :"
   ]
  },
  {
   "cell_type": "code",
   "execution_count": 37,
   "metadata": {},
   "outputs": [
    {
     "data": {
      "image/png": "[encoded data removed]",
      "text/latex": [
       "$\\displaystyle \\frac{g \\left(l_{1} m_{1} \\theta_{1}^{2}{\\left(t \\right)} + l_{1} m_{2} \\theta_{1}^{2}{\\left(t \\right)} + l_{2} m_{2} \\theta_{2}^{2}{\\left(t \\right)}\\right)}{2}$"
      ],
      "text/plain": [
       "  ⎛        2              2              2   ⎞\n",
       "g⋅⎝l₁⋅m₁⋅θ₁ (t) + l₁⋅m₂⋅θ₁ (t) + l₂⋅m₂⋅θ₂ (t)⎠\n",
       "──────────────────────────────────────────────\n",
       "                      2                       "
      ]
     },
     "metadata": {},
     "output_type": "display_data"
    }
   ],
   "source": [
    "Ep=Ep.subs(([\n",
    "   (sp.cos(th1(t)),1-th1(t)**2/2), \n",
    "    (sp.cos(th2(t)),1-th2(t)**2/2)]))\n",
    "Ep=sp.simplify(Ep)\n",
    "display(Ep)"
   ]
  },
  {
   "cell_type": "markdown",
   "metadata": {},
   "source": [
    "Matrice de raideur :"
   ]
  },
  {
   "cell_type": "code",
   "execution_count": 38,
   "metadata": {},
   "outputs": [
    {
     "data": {
      "image/png": "[encoded data removed]",
      "text/latex": [
       "$\\displaystyle \\left[\\begin{matrix}g l_{1} \\left(m_{1} + m_{2}\\right) & 0\\\\0 & g l_{2} m_{2}\\end{matrix}\\right]$"
      ],
      "text/plain": [
       "⎡g⋅l₁⋅(m₁ + m₂)     0   ⎤\n",
       "⎢                       ⎥\n",
       "⎣      0         g⋅l₂⋅m₂⎦"
      ]
     },
     "metadata": {},
     "output_type": "display_data"
    }
   ],
   "source": [
    "K=sp.Matrix([[sp.diff(Ep,th1(t),th1(t)),sp.diff(Ep,th1(t),th2(t))],\n",
    "            [sp.diff(Ep,th2(t),th1(t)),sp.diff(Ep,th2(t),th2(t))]])\n",
    "display(K)"
   ]
  },
  {
   "cell_type": "markdown",
   "metadata": {},
   "source": [
    "## Calcul des valeurs propres et vecteurs propres :"
   ]
  },
  {
   "cell_type": "markdown",
   "metadata": {},
   "source": [
    "Les valeurs propres sont obtenues par la fonction \"eigenvals()\".  \n",
    "Le résultats est donné sous la forme $\\left\\lbrace  \\right.$ *valeur propre $\\colon$ nombre d'occurence de la valeur propre* $\\left. \\right\\rbrace  $ :"
   ]
  },
  {
   "cell_type": "code",
   "execution_count": 39,
   "metadata": {},
   "outputs": [
    {
     "data": {
      "image/png": "[encoded data removed]",
      "text/latex": [
       "$\\displaystyle \\left\\{ - \\frac{g \\sqrt{\\left(m_{1} + m_{2}\\right) \\left(l_{1}^{2} m_{1} + l_{1}^{2} m_{2} - 2 l_{1} l_{2} m_{1} + 2 l_{1} l_{2} m_{2} + l_{2}^{2} m_{1} + l_{2}^{2} m_{2}\\right)}}{2 l_{1} l_{2} m_{1}} + \\frac{g \\left(l_{1} + l_{2}\\right) \\left(m_{1} + m_{2}\\right)}{2 l_{1} l_{2} m_{1}} : 1, \\  \\frac{g \\sqrt{\\left(m_{1} + m_{2}\\right) \\left(l_{1}^{2} m_{1} + l_{1}^{2} m_{2} - 2 l_{1} l_{2} m_{1} + 2 l_{1} l_{2} m_{2} + l_{2}^{2} m_{1} + l_{2}^{2} m_{2}\\right)}}{2 l_{1} l_{2} m_{1}} + \\frac{g \\left(l_{1} + l_{2}\\right) \\left(m_{1} + m_{2}\\right)}{2 l_{1} l_{2} m_{1}} : 1\\right\\}$"
      ],
      "text/plain": [
       "⎧       ______________________________________________________________________\n",
       "⎪      ╱           ⎛  2        2                                  2        2  \n",
       "⎨  g⋅╲╱  (m₁ + m₂)⋅⎝l₁ ⋅m₁ + l₁ ⋅m₂ - 2⋅l₁⋅l₂⋅m₁ + 2⋅l₁⋅l₂⋅m₂ + l₂ ⋅m₁ + l₂ ⋅m\n",
       "⎪- ───────────────────────────────────────────────────────────────────────────\n",
       "⎩                                    2⋅l₁⋅l₂⋅m₁                               \n",
       "\n",
       "___                                  _________________________________________\n",
       " ⎞                                  ╱           ⎛  2        2                 \n",
       "₂⎠    g⋅(l₁ + l₂)⋅(m₁ + m₂)     g⋅╲╱  (m₁ + m₂)⋅⎝l₁ ⋅m₁ + l₁ ⋅m₂ - 2⋅l₁⋅l₂⋅m₁ \n",
       "─── + ─────────────────────: 1, ──────────────────────────────────────────────\n",
       "            2⋅l₁⋅l₂⋅m₁                                            2⋅l₁⋅l₂⋅m₁  \n",
       "\n",
       "________________________________                           ⎫\n",
       "                 2        2   ⎞                            ⎪\n",
       "+ 2⋅l₁⋅l₂⋅m₂ + l₂ ⋅m₁ + l₂ ⋅m₂⎠    g⋅(l₁ + l₂)⋅(m₁ + m₂)   ⎬\n",
       "──────────────────────────────── + ─────────────────────: 1⎪\n",
       "                                         2⋅l₁⋅l₂⋅m₁        ⎭"
      ]
     },
     "metadata": {},
     "output_type": "display_data"
    }
   ],
   "source": [
    "ValProp=(M**-1*K).eigenvals()\n",
    "display(ValProp)"
   ]
  },
  {
   "cell_type": "markdown",
   "metadata": {},
   "source": [
    "Les vecteurs propres sont obtenus avec la fonction \"eigenvects()\" :"
   ]
  },
  {
   "cell_type": "code",
   "execution_count": 40,
   "metadata": {},
   "outputs": [
    {
     "data": {
      "image/png": "[encoded data removed]",
      "text/latex": [
       "$\\displaystyle \\left[ \\left( - \\frac{g \\sqrt{\\left(m_{1} + m_{2}\\right) \\left(l_{1}^{2} m_{1} + l_{1}^{2} m_{2} - 2 l_{1} l_{2} m_{1} + 2 l_{1} l_{2} m_{2} + l_{2}^{2} m_{1} + l_{2}^{2} m_{2}\\right)}}{2 l_{1} l_{2} m_{1}} + \\frac{g \\left(l_{1} + l_{2}\\right) \\left(m_{1} + m_{2}\\right)}{2 l_{1} l_{2} m_{1}}, \\  1, \\  \\left[ \\left[\\begin{matrix}- \\frac{2 l_{2} m_{2}}{l_{1} m_{1} + l_{1} m_{2} - l_{2} m_{1} - l_{2} m_{2} - \\sqrt{l_{1}^{2} m_{1}^{2} + 2 l_{1}^{2} m_{1} m_{2} + l_{1}^{2} m_{2}^{2} - 2 l_{1} l_{2} m_{1}^{2} + 2 l_{1} l_{2} m_{2}^{2} + l_{2}^{2} m_{1}^{2} + 2 l_{2}^{2} m_{1} m_{2} + l_{2}^{2} m_{2}^{2}}}\\\\1\\end{matrix}\\right]\\right]\\right), \\  \\left( \\frac{g \\sqrt{\\left(m_{1} + m_{2}\\right) \\left(l_{1}^{2} m_{1} + l_{1}^{2} m_{2} - 2 l_{1} l_{2} m_{1} + 2 l_{1} l_{2} m_{2} + l_{2}^{2} m_{1} + l_{2}^{2} m_{2}\\right)}}{2 l_{1} l_{2} m_{1}} + \\frac{g \\left(l_{1} + l_{2}\\right) \\left(m_{1} + m_{2}\\right)}{2 l_{1} l_{2} m_{1}}, \\  1, \\  \\left[ \\left[\\begin{matrix}- \\frac{2 l_{2} m_{2}}{l_{1} m_{1} + l_{1} m_{2} - l_{2} m_{1} - l_{2} m_{2} + \\sqrt{l_{1}^{2} m_{1}^{2} + 2 l_{1}^{2} m_{1} m_{2} + l_{1}^{2} m_{2}^{2} - 2 l_{1} l_{2} m_{1}^{2} + 2 l_{1} l_{2} m_{2}^{2} + l_{2}^{2} m_{1}^{2} + 2 l_{2}^{2} m_{1} m_{2} + l_{2}^{2} m_{2}^{2}}}\\\\1\\end{matrix}\\right]\\right]\\right)\\right]$"
      ],
      "text/plain": [
       "⎡⎛       _____________________________________________________________________\n",
       "⎢⎜      ╱           ⎛  2        2                                  2        2 \n",
       "⎢⎜  g⋅╲╱  (m₁ + m₂)⋅⎝l₁ ⋅m₁ + l₁ ⋅m₂ - 2⋅l₁⋅l₂⋅m₁ + 2⋅l₁⋅l₂⋅m₂ + l₂ ⋅m₁ + l₂ ⋅\n",
       "⎢⎜- ──────────────────────────────────────────────────────────────────────────\n",
       "⎢⎜                                    2⋅l₁⋅l₂⋅m₁                              \n",
       "⎢⎜                                                                            \n",
       "⎣⎝                                                                            \n",
       "\n",
       "____                             ⎡⎡                                           \n",
       "  ⎞                              ⎢⎢───────────────────────────────────────────\n",
       "m₂⎠    g⋅(l₁ + l₂)⋅(m₁ + m₂)     ⎢⎢                                   ________\n",
       "──── + ─────────────────────, 1, ⎢⎢                                  ╱   2   2\n",
       "             2⋅l₁⋅l₂⋅m₁          ⎢⎢l₁⋅m₁ + l₁⋅m₂ - l₂⋅m₁ - l₂⋅m₂ - ╲╱  l₁ ⋅m₁ \n",
       "                                 ⎢⎢                                           \n",
       "                                 ⎣⎣                                           \n",
       "\n",
       "                 -2⋅l₂⋅m₂                                                     \n",
       "──────────────────────────────────────────────────────────────────────────────\n",
       "______________________________________________________________________________\n",
       "       2           2   2             2             2     2   2       2        \n",
       " + 2⋅l₁ ⋅m₁⋅m₂ + l₁ ⋅m₂  - 2⋅l₁⋅l₂⋅m₁  + 2⋅l₁⋅l₂⋅m₂  + l₂ ⋅m₁  + 2⋅l₂ ⋅m₁⋅m₂ +\n",
       "                                                                              \n",
       "                     1                                                        \n",
       "\n",
       "         ⎤⎤⎞  ⎛     __________________________________________________________\n",
       "─────────⎥⎥⎟  ⎜    ╱           ⎛  2        2                                  \n",
       "_________⎥⎥⎟  ⎜g⋅╲╱  (m₁ + m₂)⋅⎝l₁ ⋅m₁ + l₁ ⋅m₂ - 2⋅l₁⋅l₂⋅m₁ + 2⋅l₁⋅l₂⋅m₂ + l₂\n",
       "   2   2 ⎥⎥⎟, ⎜───────────────────────────────────────────────────────────────\n",
       " l₂ ⋅m₂  ⎥⎥⎟  ⎜                                  2⋅l₁⋅l₂⋅m₁                   \n",
       "         ⎥⎥⎟  ⎜                                                               \n",
       "         ⎦⎦⎠  ⎝                                                               \n",
       "\n",
       "_______________                             ⎡⎡                                \n",
       "2        2   ⎞                              ⎢⎢────────────────────────────────\n",
       " ⋅m₁ + l₂ ⋅m₂⎠    g⋅(l₁ + l₂)⋅(m₁ + m₂)     ⎢⎢                                \n",
       "─────────────── + ─────────────────────, 1, ⎢⎢                                \n",
       "                        2⋅l₁⋅l₂⋅m₁          ⎢⎢l₁⋅m₁ + l₁⋅m₂ - l₂⋅m₁ - l₂⋅m₂ + \n",
       "                                            ⎢⎢                                \n",
       "                                            ⎣⎣                                \n",
       "\n",
       "                            -2⋅l₂⋅m₂                                          \n",
       "──────────────────────────────────────────────────────────────────────────────\n",
       "   ___________________________________________________________________________\n",
       "  ╱   2   2       2           2   2             2             2     2   2     \n",
       "╲╱  l₁ ⋅m₁  + 2⋅l₁ ⋅m₁⋅m₂ + l₁ ⋅m₂  - 2⋅l₁⋅l₂⋅m₁  + 2⋅l₁⋅l₂⋅m₂  + l₂ ⋅m₁  + 2⋅\n",
       "                                                                              \n",
       "                                1                                             \n",
       "\n",
       "                    ⎤⎤⎞⎤\n",
       "────────────────────⎥⎥⎟⎥\n",
       "____________________⎥⎥⎟⎥\n",
       "  2           2   2 ⎥⎥⎟⎥\n",
       "l₂ ⋅m₁⋅m₂ + l₂ ⋅m₂  ⎥⎥⎟⎥\n",
       "                    ⎥⎥⎟⎥\n",
       "                    ⎦⎦⎠⎦"
      ]
     },
     "metadata": {},
     "output_type": "display_data"
    }
   ],
   "source": [
    "VectProp=(M**-1*K).eigenvects()\n",
    "display(VectProp)"
   ]
  },
  {
   "cell_type": "markdown",
   "metadata": {},
   "source": [
    "Le résultat est donné sous la forme : *valeur propre, nombre d'occurence, vecteur propre*\n",
    "Les résultats sont accessibles via :\n",
    "- Pour les valeurs propres :"
   ]
  },
  {
   "cell_type": "code",
   "execution_count": 42,
   "metadata": {},
   "outputs": [
    {
     "data": {
      "image/png": "[encoded data removed]",
      "text/latex": [
       "$\\displaystyle - \\frac{g \\sqrt{\\left(m_{1} + m_{2}\\right) \\left(l_{1}^{2} m_{1} + l_{1}^{2} m_{2} - 2 l_{1} l_{2} m_{1} + 2 l_{1} l_{2} m_{2} + l_{2}^{2} m_{1} + l_{2}^{2} m_{2}\\right)}}{2 l_{1} l_{2} m_{1}} + \\frac{g \\left(l_{1} + l_{2}\\right) \\left(m_{1} + m_{2}\\right)}{2 l_{1} l_{2} m_{1}}$"
      ],
      "text/plain": [
       "       _______________________________________________________________________\n",
       "      ╱           ⎛  2        2                                  2        2   \n",
       "  g⋅╲╱  (m₁ + m₂)⋅⎝l₁ ⋅m₁ + l₁ ⋅m₂ - 2⋅l₁⋅l₂⋅m₁ + 2⋅l₁⋅l₂⋅m₂ + l₂ ⋅m₁ + l₂ ⋅m₂\n",
       "- ────────────────────────────────────────────────────────────────────────────\n",
       "                                    2⋅l₁⋅l₂⋅m₁                                \n",
       "\n",
       "__                        \n",
       "⎞                         \n",
       "⎠    g⋅(l₁ + l₂)⋅(m₁ + m₂)\n",
       "── + ─────────────────────\n",
       "           2⋅l₁⋅l₂⋅m₁     "
      ]
     },
     "metadata": {},
     "output_type": "display_data"
    },
    {
     "data": {
      "image/png": "[encoded data removed]",
      "text/latex": [
       "$\\displaystyle \\frac{g \\sqrt{\\left(m_{1} + m_{2}\\right) \\left(l_{1}^{2} m_{1} + l_{1}^{2} m_{2} - 2 l_{1} l_{2} m_{1} + 2 l_{1} l_{2} m_{2} + l_{2}^{2} m_{1} + l_{2}^{2} m_{2}\\right)}}{2 l_{1} l_{2} m_{1}} + \\frac{g \\left(l_{1} + l_{2}\\right) \\left(m_{1} + m_{2}\\right)}{2 l_{1} l_{2} m_{1}}$"
      ],
      "text/plain": [
       "     _________________________________________________________________________\n",
       "    ╱           ⎛  2        2                                  2        2   ⎞ \n",
       "g⋅╲╱  (m₁ + m₂)⋅⎝l₁ ⋅m₁ + l₁ ⋅m₂ - 2⋅l₁⋅l₂⋅m₁ + 2⋅l₁⋅l₂⋅m₂ + l₂ ⋅m₁ + l₂ ⋅m₂⎠ \n",
       "──────────────────────────────────────────────────────────────────────────────\n",
       "                                  2⋅l₁⋅l₂⋅m₁                                  \n",
       "\n",
       "                        \n",
       "                        \n",
       "   g⋅(l₁ + l₂)⋅(m₁ + m₂)\n",
       " + ─────────────────────\n",
       "         2⋅l₁⋅l₂⋅m₁     "
      ]
     },
     "metadata": {},
     "output_type": "display_data"
    }
   ],
   "source": [
    "display(VectProp[0][0])\n",
    "display(VectProp[1][0])"
   ]
  },
  {
   "cell_type": "markdown",
   "metadata": {},
   "source": [
    "Pour les vecteurs propres :"
   ]
  },
  {
   "cell_type": "code",
   "execution_count": 43,
   "metadata": {},
   "outputs": [
    {
     "data": {
      "image/png": "[encoded data removed]",
      "text/latex": [
       "$\\displaystyle \\left[\\begin{matrix}- \\frac{2 l_{2} m_{2}}{l_{1} m_{1} + l_{1} m_{2} - l_{2} m_{1} - l_{2} m_{2} - \\sqrt{l_{1}^{2} m_{1}^{2} + 2 l_{1}^{2} m_{1} m_{2} + l_{1}^{2} m_{2}^{2} - 2 l_{1} l_{2} m_{1}^{2} + 2 l_{1} l_{2} m_{2}^{2} + l_{2}^{2} m_{1}^{2} + 2 l_{2}^{2} m_{1} m_{2} + l_{2}^{2} m_{2}^{2}}}\\\\1\\end{matrix}\\right]$"
      ],
      "text/plain": [
       "⎡                                                            -2⋅l₂⋅m₂         \n",
       "⎢─────────────────────────────────────────────────────────────────────────────\n",
       "⎢                                   __________________________________________\n",
       "⎢                                  ╱   2   2       2           2   2          \n",
       "⎢l₁⋅m₁ + l₁⋅m₂ - l₂⋅m₁ - l₂⋅m₂ - ╲╱  l₁ ⋅m₁  + 2⋅l₁ ⋅m₁⋅m₂ + l₁ ⋅m₂  - 2⋅l₁⋅l₂\n",
       "⎢                                                                             \n",
       "⎣                                                                1            \n",
       "\n",
       "                                                     ⎤\n",
       "─────────────────────────────────────────────────────⎥\n",
       "_____________________________________________________⎥\n",
       "   2             2     2   2       2           2   2 ⎥\n",
       "⋅m₁  + 2⋅l₁⋅l₂⋅m₂  + l₂ ⋅m₁  + 2⋅l₂ ⋅m₁⋅m₂ + l₂ ⋅m₂  ⎥\n",
       "                                                     ⎥\n",
       "                                                     ⎦"
      ]
     },
     "metadata": {},
     "output_type": "display_data"
    },
    {
     "data": {
      "image/png": "[encoded data removed]",
      "text/latex": [
       "$\\displaystyle \\left[\\begin{matrix}- \\frac{2 l_{2} m_{2}}{l_{1} m_{1} + l_{1} m_{2} - l_{2} m_{1} - l_{2} m_{2} + \\sqrt{l_{1}^{2} m_{1}^{2} + 2 l_{1}^{2} m_{1} m_{2} + l_{1}^{2} m_{2}^{2} - 2 l_{1} l_{2} m_{1}^{2} + 2 l_{1} l_{2} m_{2}^{2} + l_{2}^{2} m_{1}^{2} + 2 l_{2}^{2} m_{1} m_{2} + l_{2}^{2} m_{2}^{2}}}\\\\1\\end{matrix}\\right]$"
      ],
      "text/plain": [
       "⎡                                                            -2⋅l₂⋅m₂         \n",
       "⎢─────────────────────────────────────────────────────────────────────────────\n",
       "⎢                                   __________________________________________\n",
       "⎢                                  ╱   2   2       2           2   2          \n",
       "⎢l₁⋅m₁ + l₁⋅m₂ - l₂⋅m₁ - l₂⋅m₂ + ╲╱  l₁ ⋅m₁  + 2⋅l₁ ⋅m₁⋅m₂ + l₁ ⋅m₂  - 2⋅l₁⋅l₂\n",
       "⎢                                                                             \n",
       "⎣                                                                1            \n",
       "\n",
       "                                                     ⎤\n",
       "─────────────────────────────────────────────────────⎥\n",
       "_____________________________________________________⎥\n",
       "   2             2     2   2       2           2   2 ⎥\n",
       "⋅m₁  + 2⋅l₁⋅l₂⋅m₂  + l₂ ⋅m₁  + 2⋅l₂ ⋅m₁⋅m₂ + l₂ ⋅m₂  ⎥\n",
       "                                                     ⎥\n",
       "                                                     ⎦"
      ]
     },
     "metadata": {},
     "output_type": "display_data"
    }
   ],
   "source": [
    "display(VectProp[0][2][0])\n",
    "display(VectProp[1][2][0])"
   ]
  },
  {
   "cell_type": "markdown",
   "metadata": {},
   "source": [
    "## Equation du mouvement"
   ]
  },
  {
   "cell_type": "code",
   "execution_count": 45,
   "metadata": {},
   "outputs": [
    {
     "data": {
      "image/png": "[encoded data removed]",
      "text/latex": [
       "$\\displaystyle \\left[\\begin{matrix}- \\frac{2 l_{2} m_{2} \\left(A_{1} \\cos{\\left(t \\left(- \\frac{g \\sqrt{\\left(m_{1} + m_{2}\\right) \\left(l_{1}^{2} m_{1} + l_{1}^{2} m_{2} - 2 l_{1} l_{2} m_{1} + 2 l_{1} l_{2} m_{2} + l_{2}^{2} m_{1} + l_{2}^{2} m_{2}\\right)}}{2 l_{1} l_{2} m_{1}} + \\frac{g \\left(l_{1} + l_{2}\\right) \\left(m_{1} + m_{2}\\right)}{2 l_{1} l_{2} m_{1}}\\right) \\right)} + B_{1} \\sin{\\left(t \\left(- \\frac{g \\sqrt{\\left(m_{1} + m_{2}\\right) \\left(l_{1}^{2} m_{1} + l_{1}^{2} m_{2} - 2 l_{1} l_{2} m_{1} + 2 l_{1} l_{2} m_{2} + l_{2}^{2} m_{1} + l_{2}^{2} m_{2}\\right)}}{2 l_{1} l_{2} m_{1}} + \\frac{g \\left(l_{1} + l_{2}\\right) \\left(m_{1} + m_{2}\\right)}{2 l_{1} l_{2} m_{1}}\\right) \\right)}\\right)}{l_{1} m_{1} + l_{1} m_{2} - l_{2} m_{1} - l_{2} m_{2} - \\sqrt{l_{1}^{2} m_{1}^{2} + 2 l_{1}^{2} m_{1} m_{2} + l_{1}^{2} m_{2}^{2} - 2 l_{1} l_{2} m_{1}^{2} + 2 l_{1} l_{2} m_{2}^{2} + l_{2}^{2} m_{1}^{2} + 2 l_{2}^{2} m_{1} m_{2} + l_{2}^{2} m_{2}^{2}}} - \\frac{2 l_{2} m_{2} \\left(A_{2} \\cos{\\left(t \\left(\\frac{g \\sqrt{\\left(m_{1} + m_{2}\\right) \\left(l_{1}^{2} m_{1} + l_{1}^{2} m_{2} - 2 l_{1} l_{2} m_{1} + 2 l_{1} l_{2} m_{2} + l_{2}^{2} m_{1} + l_{2}^{2} m_{2}\\right)}}{2 l_{1} l_{2} m_{1}} + \\frac{g \\left(l_{1} + l_{2}\\right) \\left(m_{1} + m_{2}\\right)}{2 l_{1} l_{2} m_{1}}\\right) \\right)} + B_{2} \\sin{\\left(t \\left(\\frac{g \\sqrt{\\left(m_{1} + m_{2}\\right) \\left(l_{1}^{2} m_{1} + l_{1}^{2} m_{2} - 2 l_{1} l_{2} m_{1} + 2 l_{1} l_{2} m_{2} + l_{2}^{2} m_{1} + l_{2}^{2} m_{2}\\right)}}{2 l_{1} l_{2} m_{1}} + \\frac{g \\left(l_{1} + l_{2}\\right) \\left(m_{1} + m_{2}\\right)}{2 l_{1} l_{2} m_{1}}\\right) \\right)}\\right)}{l_{1} m_{1} + l_{1} m_{2} - l_{2} m_{1} - l_{2} m_{2} + \\sqrt{l_{1}^{2} m_{1}^{2} + 2 l_{1}^{2} m_{1} m_{2} + l_{1}^{2} m_{2}^{2} - 2 l_{1} l_{2} m_{1}^{2} + 2 l_{1} l_{2} m_{2}^{2} + l_{2}^{2} m_{1}^{2} + 2 l_{2}^{2} m_{1} m_{2} + l_{2}^{2} m_{2}^{2}}}\\\\A_{1} \\cos{\\left(t \\left(- \\frac{g \\sqrt{\\left(m_{1} + m_{2}\\right) \\left(l_{1}^{2} m_{1} + l_{1}^{2} m_{2} - 2 l_{1} l_{2} m_{1} + 2 l_{1} l_{2} m_{2} + l_{2}^{2} m_{1} + l_{2}^{2} m_{2}\\right)}}{2 l_{1} l_{2} m_{1}} + \\frac{g \\left(l_{1} + l_{2}\\right) \\left(m_{1} + m_{2}\\right)}{2 l_{1} l_{2} m_{1}}\\right) \\right)} + A_{2} \\cos{\\left(t \\left(\\frac{g \\sqrt{\\left(m_{1} + m_{2}\\right) \\left(l_{1}^{2} m_{1} + l_{1}^{2} m_{2} - 2 l_{1} l_{2} m_{1} + 2 l_{1} l_{2} m_{2} + l_{2}^{2} m_{1} + l_{2}^{2} m_{2}\\right)}}{2 l_{1} l_{2} m_{1}} + \\frac{g \\left(l_{1} + l_{2}\\right) \\left(m_{1} + m_{2}\\right)}{2 l_{1} l_{2} m_{1}}\\right) \\right)} + B_{1} \\sin{\\left(t \\left(- \\frac{g \\sqrt{\\left(m_{1} + m_{2}\\right) \\left(l_{1}^{2} m_{1} + l_{1}^{2} m_{2} - 2 l_{1} l_{2} m_{1} + 2 l_{1} l_{2} m_{2} + l_{2}^{2} m_{1} + l_{2}^{2} m_{2}\\right)}}{2 l_{1} l_{2} m_{1}} + \\frac{g \\left(l_{1} + l_{2}\\right) \\left(m_{1} + m_{2}\\right)}{2 l_{1} l_{2} m_{1}}\\right) \\right)} + B_{2} \\sin{\\left(t \\left(\\frac{g \\sqrt{\\left(m_{1} + m_{2}\\right) \\left(l_{1}^{2} m_{1} + l_{1}^{2} m_{2} - 2 l_{1} l_{2} m_{1} + 2 l_{1} l_{2} m_{2} + l_{2}^{2} m_{1} + l_{2}^{2} m_{2}\\right)}}{2 l_{1} l_{2} m_{1}} + \\frac{g \\left(l_{1} + l_{2}\\right) \\left(m_{1} + m_{2}\\right)}{2 l_{1} l_{2} m_{1}}\\right) \\right)}\\end{matrix}\\right]$"
      ],
      "text/plain": [
       "⎡          ⎛      ⎛  ⎛       _________________________________________________\n",
       "⎢          ⎜      ⎜  ⎜      ╱           ⎛  2        2                         \n",
       "⎢          ⎜      ⎜  ⎜  g⋅╲╱  (m₁ + m₂)⋅⎝l₁ ⋅m₁ + l₁ ⋅m₂ - 2⋅l₁⋅l₂⋅m₁ + 2⋅l₁⋅l\n",
       "⎢  2⋅l₂⋅m₂⋅⎜A₁⋅cos⎜t⋅⎜- ──────────────────────────────────────────────────────\n",
       "⎢          ⎝      ⎝  ⎝                                    2⋅l₁⋅l₂⋅m₁          \n",
       "⎢- ───────────────────────────────────────────────────────────────────────────\n",
       "⎢                                                                             \n",
       "⎢                                                                             \n",
       "⎢                                                            l₁⋅m₁ + l₁⋅m₂ - l\n",
       "⎢                                                                             \n",
       "⎢                 ⎛  ⎛       _________________________________________________\n",
       "⎢                 ⎜  ⎜      ╱           ⎛  2        2                         \n",
       "⎢                 ⎜  ⎜  g⋅╲╱  (m₁ + m₂)⋅⎝l₁ ⋅m₁ + l₁ ⋅m₂ - 2⋅l₁⋅l₂⋅m₁ + 2⋅l₁⋅l\n",
       "⎢           A₁⋅cos⎜t⋅⎜- ──────────────────────────────────────────────────────\n",
       "⎣                 ⎝  ⎝                                    2⋅l₁⋅l₂⋅m₁          \n",
       "\n",
       "________________________                        ⎞⎞         ⎛  ⎛       ________\n",
       "         2        2   ⎞                         ⎟⎟         ⎜  ⎜      ╱        \n",
       "₂⋅m₂ + l₂ ⋅m₁ + l₂ ⋅m₂⎠    g⋅(l₁ + l₂)⋅(m₁ + m₂)⎟⎟         ⎜  ⎜  g⋅╲╱  (m₁ + m\n",
       "──────────────────────── + ─────────────────────⎟⎟ + B₁⋅sin⎜t⋅⎜- ─────────────\n",
       "                                 2⋅l₁⋅l₂⋅m₁     ⎠⎠         ⎝  ⎝               \n",
       "──────────────────────────────────────────────────────────────────────────────\n",
       "                  ____________________________________________________________\n",
       "                 ╱   2   2       2           2   2             2             2\n",
       "₂⋅m₁ - l₂⋅m₂ - ╲╱  l₁ ⋅m₁  + 2⋅l₁ ⋅m₁⋅m₂ + l₁ ⋅m₂  - 2⋅l₁⋅l₂⋅m₁  + 2⋅l₁⋅l₂⋅m₂ \n",
       "                                                                              \n",
       "________________________                        ⎞⎞         ⎛  ⎛     __________\n",
       "         2        2   ⎞                         ⎟⎟         ⎜  ⎜    ╱          \n",
       "₂⋅m₂ + l₂ ⋅m₁ + l₂ ⋅m₂⎠    g⋅(l₁ + l₂)⋅(m₁ + m₂)⎟⎟         ⎜  ⎜g⋅╲╱  (m₁ + m₂)\n",
       "──────────────────────── + ─────────────────────⎟⎟ + A₂⋅cos⎜t⋅⎜───────────────\n",
       "                                 2⋅l₁⋅l₂⋅m₁     ⎠⎠         ⎝  ⎝               \n",
       "\n",
       "_________________________________________________________________             \n",
       "   ⎛  2        2                                  2        2   ⎞              \n",
       "₂)⋅⎝l₁ ⋅m₁ + l₁ ⋅m₂ - 2⋅l₁⋅l₂⋅m₁ + 2⋅l₁⋅l₂⋅m₂ + l₂ ⋅m₁ + l₂ ⋅m₂⎠    g⋅(l₁ + l₂\n",
       "───────────────────────────────────────────────────────────────── + ──────────\n",
       "                     2⋅l₁⋅l₂⋅m₁                                           2⋅l₁\n",
       "──────────────────────────────────────────────────────────────────────────────\n",
       "___________________________________                                           \n",
       "     2   2       2           2   2                                            \n",
       " + l₂ ⋅m₁  + 2⋅l₂ ⋅m₁⋅m₂ + l₂ ⋅m₂                                             \n",
       "                                                                              \n",
       "_______________________________________________________________               \n",
       " ⎛  2        2                                  2        2   ⎞                \n",
       "⋅⎝l₁ ⋅m₁ + l₁ ⋅m₂ - 2⋅l₁⋅l₂⋅m₁ + 2⋅l₁⋅l₂⋅m₂ + l₂ ⋅m₁ + l₂ ⋅m₂⎠    g⋅(l₁ + l₂)⋅\n",
       "─────────────────────────────────────────────────────────────── + ────────────\n",
       "                   2⋅l₁⋅l₂⋅m₁                                           2⋅l₁⋅l\n",
       "\n",
       "           ⎞⎞⎞           ⎛      ⎛  ⎛     _____________________________________\n",
       "           ⎟⎟⎟           ⎜      ⎜  ⎜    ╱           ⎛  2        2             \n",
       ")⋅(m₁ + m₂)⎟⎟⎟           ⎜      ⎜  ⎜g⋅╲╱  (m₁ + m₂)⋅⎝l₁ ⋅m₁ + l₁ ⋅m₂ - 2⋅l₁⋅l₂\n",
       "───────────⎟⎟⎟   2⋅l₂⋅m₂⋅⎜A₂⋅cos⎜t⋅⎜──────────────────────────────────────────\n",
       "⋅l₂⋅m₁     ⎠⎠⎠           ⎝      ⎝  ⎝                                  2⋅l₁⋅l₂⋅\n",
       "────────────── - ─────────────────────────────────────────────────────────────\n",
       "                                                                              \n",
       "                                                                              \n",
       "                                                                         l₁⋅m₁\n",
       "                                                                              \n",
       "         ⎞⎞         ⎛  ⎛       _______________________________________________\n",
       "         ⎟⎟         ⎜  ⎜      ╱           ⎛  2        2                       \n",
       "(m₁ + m₂)⎟⎟         ⎜  ⎜  g⋅╲╱  (m₁ + m₂)⋅⎝l₁ ⋅m₁ + l₁ ⋅m₂ - 2⋅l₁⋅l₂⋅m₁ + 2⋅l₁\n",
       "─────────⎟⎟ + B₁⋅sin⎜t⋅⎜- ────────────────────────────────────────────────────\n",
       "₂⋅m₁     ⎠⎠         ⎝  ⎝                                    2⋅l₁⋅l₂⋅m₁        \n",
       "\n",
       "____________________________________                        ⎞⎞         ⎛  ⎛   \n",
       "                     2        2   ⎞                         ⎟⎟         ⎜  ⎜   \n",
       "⋅m₁ + 2⋅l₁⋅l₂⋅m₂ + l₂ ⋅m₁ + l₂ ⋅m₂⎠    g⋅(l₁ + l₂)⋅(m₁ + m₂)⎟⎟         ⎜  ⎜g⋅╲\n",
       "──────────────────────────────────── + ─────────────────────⎟⎟ + B₂⋅sin⎜t⋅⎜───\n",
       "m₁                                           2⋅l₁⋅l₂⋅m₁     ⎠⎠         ⎝  ⎝   \n",
       "──────────────────────────────────────────────────────────────────────────────\n",
       "                              ________________________________________________\n",
       "                             ╱   2   2       2           2   2             2  \n",
       " + l₁⋅m₂ - l₂⋅m₁ - l₂⋅m₂ + ╲╱  l₁ ⋅m₁  + 2⋅l₁ ⋅m₁⋅m₂ + l₁ ⋅m₂  - 2⋅l₁⋅l₂⋅m₁  +\n",
       "                                                                              \n",
       "__________________________                        ⎞⎞         ⎛  ⎛     ________\n",
       "           2        2   ⎞                         ⎟⎟         ⎜  ⎜    ╱        \n",
       "⋅l₂⋅m₂ + l₂ ⋅m₁ + l₂ ⋅m₂⎠    g⋅(l₁ + l₂)⋅(m₁ + m₂)⎟⎟         ⎜  ⎜g⋅╲╱  (m₁ + m\n",
       "────────────────────────── + ─────────────────────⎟⎟ + B₂⋅sin⎜t⋅⎜─────────────\n",
       "                                   2⋅l₁⋅l₂⋅m₁     ⎠⎠         ⎝  ⎝             \n",
       "\n",
       "  _________________________________________________________________________   \n",
       " ╱           ⎛  2        2                                  2        2   ⎞    \n",
       "╱  (m₁ + m₂)⋅⎝l₁ ⋅m₁ + l₁ ⋅m₂ - 2⋅l₁⋅l₂⋅m₁ + 2⋅l₁⋅l₂⋅m₂ + l₂ ⋅m₁ + l₂ ⋅m₂⎠    \n",
       "─────────────────────────────────────────────────────────────────────────── + \n",
       "                               2⋅l₁⋅l₂⋅m₁                                     \n",
       "──────────────────────────────────────────────────────────────────────────────\n",
       "_______________________________________________                               \n",
       "           2     2   2       2           2   2                                \n",
       " 2⋅l₁⋅l₂⋅m₂  + l₂ ⋅m₁  + 2⋅l₂ ⋅m₁⋅m₂ + l₂ ⋅m₂                                 \n",
       "                                                                              \n",
       "_________________________________________________________________             \n",
       "   ⎛  2        2                                  2        2   ⎞              \n",
       "₂)⋅⎝l₁ ⋅m₁ + l₁ ⋅m₂ - 2⋅l₁⋅l₂⋅m₁ + 2⋅l₁⋅l₂⋅m₂ + l₂ ⋅m₁ + l₂ ⋅m₂⎠    g⋅(l₁ + l₂\n",
       "───────────────────────────────────────────────────────────────── + ──────────\n",
       "                     2⋅l₁⋅l₂⋅m₁                                           2⋅l₁\n",
       "\n",
       "                     ⎞⎞⎞⎤\n",
       "                     ⎟⎟⎟⎥\n",
       "g⋅(l₁ + l₂)⋅(m₁ + m₂)⎟⎟⎟⎥\n",
       "─────────────────────⎟⎟⎟⎥\n",
       "      2⋅l₁⋅l₂⋅m₁     ⎠⎠⎠⎥\n",
       "────────────────────────⎥\n",
       "                        ⎥\n",
       "                        ⎥\n",
       "                        ⎥\n",
       "                        ⎥\n",
       "           ⎞⎞           ⎥\n",
       "           ⎟⎟           ⎥\n",
       ")⋅(m₁ + m₂)⎟⎟           ⎥\n",
       "───────────⎟⎟           ⎥\n",
       "⋅l₂⋅m₁     ⎠⎠           ⎦"
      ]
     },
     "execution_count": 45,
     "metadata": {},
     "output_type": "execute_result"
    }
   ],
   "source": [
    "A1, A2, B1, B2 = sp.symbols('A1, A2, B1, B2')\n",
    "the=VectProp[0][2][0]*(A1*sp.cos(VectProp[0][0] * t)+B1*sp.sin(VectProp[0][0]*t))+VectProp[1][2][0]*(A2*sp.cos(VectProp[1][0]*t)+B2*sp.sin(VectProp[1][0]*t))\n",
    "the"
   ]
  },
  {
   "cell_type": "markdown",
   "metadata": {},
   "source": [
    "### Prise en compte des conditions initiales :\n",
    "On note p1,p2 les angles des masses 1 et 2 au temps 0, et v1,v2 les vitesses des masses 1 et 2 au temps 0."
   ]
  },
  {
   "cell_type": "code",
   "execution_count": 64,
   "metadata": {
    "scrolled": false
   },
   "outputs": [
    {
     "data": {
      "application/vnd.jupyter.widget-view+json": {
       "model_id": "2b253d23728e467ba7c481b255ab3ed8",
       "version_major": 2,
       "version_minor": 0
      },
      "text/plain": [
       "VBox(children=(FloatSlider(value=0.5, continuous_update=False, description='P1 (rad):', max=0.5, min=-0.5, ste…"
      ]
     },
     "metadata": {},
     "output_type": "display_data"
    }
   ],
   "source": [
    "from ipywidgets import interactive,interact,VBox\n",
    "import ipywidgets as widgets\n",
    "from IPython.display import clear_output\n",
    "\n",
    "Sortie1 = widgets.Output()\n",
    "Bouton1 = widgets.Button(description='Mettre à jour',disabled=False,button_style='',tooltip='Cliquer ici',icon='fa-refresh')\n",
    "\n",
    "def update1(val):\n",
    "#    clear_output(wait=True)\n",
    "#    display(p1,p2,v1,v2,Nl1,Nl2,Nm1,Nm2)\n",
    "    Resolution(val)\n",
    "    Affichage1(val)\n",
    "    return\n",
    "\n",
    "def Resolution(val):\n",
    "    #Application numérique :\n",
    "    AN={(l1,Nl1.value),(l2,Nl2.value),(m1,Nm1.value),(m2,Nm2.value),(g,9.81)}\n",
    "#Calcul des valeurs et vacteurs propres de l'AN :\n",
    "    global VP\n",
    "    VP=(M**-1*K).subs(AN).eigenvects()\n",
    "#Equation du mouvment :\n",
    "    global the2\n",
    "    the2=VP[0][2][0]*(A1*sp.cos(VP[0][0] * t)+B1*sp.sin(VP[0][0]*t))+VP[1][2][0]*(A2*sp.cos(VP[1][0]*t)+B2*sp.sin(VP[1][0]*t))\n",
    "#Conditions aux limites :\n",
    "    Resu2=sp.linsolve([the2[0].subs(t,0)-p1.value,\n",
    "                  the2[1].subs(t,0)-p2.value,\n",
    "                 sp.diff(the2[0],t).subs(t,0)-v1.value,\n",
    "                 sp.diff(the2[1],t).subs(t,0)-v2.value],A1, A2, B1, B2)\n",
    "#Application du résultats :\n",
    "    the2=the2.subs([(A1,Resu2.args[0][0]), \n",
    "                  (A2,Resu2.args[0][1]), \n",
    "                  (B1,Resu2.args[0][2]), \n",
    "                  (B2,Resu2.args[0][3])])\n",
    "    return\n",
    "\n",
    "#Nombre de périodes à afficher :\n",
    "Np=2\n",
    "\n",
    "def Affichage1(val):\n",
    "#Affichage des fréquences propres :\n",
    "    Sortie1.clear_output(wait=True)\n",
    "    #Calcul du temps  pour afficher au moins Np périodes :\n",
    "    tmax=Np*2*sp.pi/sp.Min(VP[0][0],(VP[1][0]))\n",
    "        \n",
    "#Tracés des angles des masses M1 et M2 en fonction du temps :\n",
    "    \n",
    "    p = sp.plotting.plot((the2[0],(t,0,tmax)),(the2[1],(t,0,tmax)), title=\"Angle (rad) en fonction du temps (t)\",xlabel='t', ylabel='theta',legend=True,show=False) \n",
    "    p[0].line_color = 'blue'\n",
    "    p[1].line_color = 'green'\n",
    "    p[0].label = 'M1'\n",
    "    p[1].label = 'M2' \n",
    "    \n",
    "    r = sp.symbols('r')  \n",
    "    Nt=0\n",
    "    u=sp.plotting.plot_parametric((r*sp.sin(the2[0].subs(t,Nt)),-r*sp.cos(the2[0].subs(t,Nt)), (r, 0, Nl1.value)),\n",
    "                                      (Nl1.value*sp.sin(the2[0].subs(t,Nt))+r*sp.sin(the2[1].subs(t,Nt)),-Nl1.value*sp.cos(the2[0].subs(t,Nt))-r*sp.cos(the2[1].subs(t,Nt)),(r, 0, Nl2.value)),\n",
    "                                      xlabel='x', ylabel='y',xlim=(-Nl1.value-Nl2.value,Nl1.value+Nl2.value),ylim=(-Nl1.value-Nl2.value,0),title='Position initiale',show=False)\n",
    "    u[0].line_color = 'blue'\n",
    "    u[1].line_color = 'green' \n",
    "\n",
    "    with Sortie1:\n",
    "        display(\"Fréquences propres : \"+str(sp.N(VP[0][0]**0.5/(2*sp.pi),2))+'Hz et '+str(sp.N(VP[1][0]**0.5/(2*sp.pi),2))+'Hz ')\n",
    "        display('Angles des masses M1 et M2 en fonction du temps :')\n",
    "        p.show()\n",
    "        u.show()\n",
    "    return\n",
    "\n",
    "p1=widgets.FloatSlider(description='P1 (rad):',min=-0.5, max=0.5, step=0.05, value=0.5, continuous_update=False)\n",
    "p2=widgets.FloatSlider(description='P2 (rad):',min=-0.5, max=0.5, step=0.05, value=-0.5, continuous_update=False)\n",
    "v1=widgets.FloatSlider(description='V1 (rad/s):',min=-5, max=5, step=0.1, value=0, continuous_update=False)\n",
    "v2=widgets.FloatSlider(description='V2 (rad/s):',min=-5, max=5, step=0.1, value=0, continuous_update=False)\n",
    "Nl1=widgets.FloatSlider(description='L1 (m):',min=0.1, max=10, step=0.1, value=1, continuous_update=False)\n",
    "Nl2=widgets.FloatSlider(description='L2 (m):',min=0.1, max=10, step=0.1, value=1, continuous_update=False)\n",
    "Nm1=widgets.FloatSlider(description='m1 (kg):',min=0.1, max=10, step=0.1, value=1, continuous_update=False)\n",
    "Nm2=widgets.FloatSlider(description='m2 (kg):',min=0.1, max=10, step=0.1, value=1, continuous_update=False)\n",
    "\n",
    "vb=widgets.VBox([p1,p2,v1,v2,Nl1,Nl2,Nm1,Nm2,Bouton1,Sortie1])\n",
    "vb.layout.align_items = 'center'\n",
    "display(vb)\n",
    "update1(0)\n",
    "Bouton1.on_click(update1)\n"
   ]
  },
  {
   "cell_type": "markdown",
   "metadata": {},
   "source": [
    "\n",
    "\n",
    "\n",
    "\n",
    "\n",
    "\n",
    "\n",
    "\n",
    "\n",
    "\n",
    "\n",
    "\n",
    "\n",
    "\n",
    "\n",
    "\n",
    "\n",
    "\n"
   ]
  },
  {
   "cell_type": "code",
   "execution_count": 63,
   "metadata": {},
   "outputs": [
    {
     "data": {
      "application/vnd.jupyter.widget-view+json": {
       "model_id": "2626a7eb7f6d41dd9786cfd0f0b671ca",
       "version_major": 2,
       "version_minor": 0
      },
      "text/plain": [
       "VBox(children=(Output(), Button(description='Animation', icon='play', style=ButtonStyle(), tooltip='Cliquer ic…"
      ]
     },
     "metadata": {},
     "output_type": "display_data"
    }
   ],
   "source": [
    "import time\n",
    "Sortie2 = widgets.Output()\n",
    "Bouton2 = widgets.Button(description='Animation',disabled=False,button_style='',tooltip='Cliquer ici',icon='play')\n",
    "\n",
    "vb2=widgets.VBox([Sortie2, Bouton2])\n",
    "vb2.layout.align_items = 'center'\n",
    "display(vb2)\n",
    "    \n",
    "Nt=0\n",
    "r = sp.symbols('r')  \n",
    "tmax=Np*2*sp.pi/sp.Min(VP[0][0],(VP[1][0]))\n",
    "q=sp.plotting.plot_parametric((r*sp.sin(the2[0].subs(t,Nt)),-r*sp.cos(the2[0].subs(t,Nt)), (r, 0, Nl1.value)),\n",
    "                                      (Nl1.value*sp.sin(the2[0].subs(t,Nt))+r*sp.sin(the2[1].subs(t,Nt)),-Nl1.value*sp.cos(the2[0].subs(t,Nt))-r*sp.cos(the2[1].subs(t,Nt)),(r, 0, Nl2.value)),\n",
    "                                      xlabel='x', ylabel='y',xlim=(-Nl1.value-Nl2.value,Nl1.value+Nl2.value),ylim=(-Nl1.value-Nl2.value,0),title='t='+str(sp.N(Nt,2))+'/'+str(sp.N(tmax,2))+'s',show=False)\n",
    "q[0].line_color = 'blue'\n",
    "q[1].line_color = 'green' \n",
    "with Sortie2:\n",
    "    q.show()\n",
    "    \n",
    "def Anime1(val):\n",
    "    for i in range(100):\n",
    "        time.sleep(0.005)\n",
    "        #Calcul du temps  pour afficher au moins Np périodes :\n",
    "        tmax=Np*2*sp.pi/sp.Min(VP[0][0],(VP[1][0]))\n",
    "        Nt=i/100*tmax\n",
    "        r = sp.symbols('r')  \n",
    "        q=sp.plotting.plot_parametric((r*sp.sin(the2[0].subs(t,Nt)),-r*sp.cos(the2[0].subs(t,Nt)), (r, 0, Nl1.value)),\n",
    "                                      (Nl1.value*sp.sin(the2[0].subs(t,Nt))+r*sp.sin(the2[1].subs(t,Nt)),-Nl1.value*sp.cos(the2[0].subs(t,Nt))-r*sp.cos(the2[1].subs(t,Nt)),(r, 0, Nl2.value)),\n",
    "                                      xlabel='x', ylabel='y',xlim=(-Nl1.value-Nl2.value,Nl1.value+Nl2.value),ylim=(-Nl1.value-Nl2.value,0),title='t='+str(sp.N(Nt,2))+'/'+str(sp.N(tmax,2))+'s',show=False)\n",
    "        q[0].line_color = 'blue'\n",
    "        q[1].line_color = 'green'\n",
    "        Sortie2.clear_output(wait=True)\n",
    "        with Sortie2:\n",
    "            q.show()\n",
    "    return\n",
    "    \n",
    "Bouton2.on_click(Anime1)"
   ]
  },
  {
   "cell_type": "code",
   "execution_count": null,
   "metadata": {},
   "outputs": [],
   "source": []
  }
 ],
 "metadata": {
  "kernelspec": {
   "display_name": "Python 3",
   "language": "python",
   "name": "python3"
  },
  "language_info": {
   "codemirror_mode": {
    "name": "ipython",
    "version": 3
   },
   "file_extension": ".py",
   "mimetype": "text/x-python",
   "name": "python",
   "nbconvert_exporter": "python",
   "pygments_lexer": "ipython3",
   "version": "3.8.3"
  }
 },
 "nbformat": 4,
 "nbformat_minor": 4
}
