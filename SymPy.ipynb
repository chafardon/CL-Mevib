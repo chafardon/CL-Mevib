{
 "cells": [
  {
   "cell_type": "markdown",
   "metadata": {},
   "source": [
    "# Utilisation de la bibliothèque SymPy (calcul formel sous Python)"
   ]
  },
  {
   "cell_type": "markdown",
   "metadata": {},
   "source": [
    "La documentation complète sur le site offciel de la [librairie SymPy](https://docs.sympy.org/latest/index.html).  \n",
    "Pour l'écriture en markdown voir la documentation sur le [site Markdown](https://www.markdownguide.org/basic-syntax/).  \n",
    "*Pour ceux qui connaisse les commandes [$\\LaTeX$](https://www.latex-project.org/help/documentation/amsldoc.pdf). il est possible de rentrer directement des formules mathématiques.*  \n",
    "Un double clique sur une cellule permet de la modifier.  \n",
    "Pour valider une cellule il faut faire : \"Shift + Entrée\" :\n",
    " ![Shift+Entrée](http://www.contractortalk.com/attachments/f16/39518d1291837912-cleaning-up-another-carpenters-mess-enter-key.jpg)"
   ]
  },
  {
   "cell_type": "markdown",
   "metadata": {},
   "source": [
    "## Importation de la librairie SymPy"
   ]
  },
  {
   "cell_type": "markdown",
   "metadata": {},
   "source": [
    "Avant de commencer, il faut importer la librairie SymPy, les fonctions de cette librairie auront comme préambul \"sp\""
   ]
  },
  {
   "cell_type": "code",
   "execution_count": 1,
   "metadata": {},
   "outputs": [],
   "source": [
    "import sympy as sp"
   ]
  },
  {
   "cell_type": "markdown",
   "metadata": {},
   "source": [
    "Par exemple, la fonction cosinus de SymPy est appelée via la commande :"
   ]
  },
  {
   "cell_type": "code",
   "execution_count": 3,
   "metadata": {},
   "outputs": [
    {
     "data": {
      "text/latex": [
       "$\\displaystyle \\cos{\\left(10 \\right)}$"
      ],
      "text/plain": [
       "cos(10)"
      ]
     },
     "execution_count": 3,
     "metadata": {},
     "output_type": "execute_result"
    }
   ],
   "source": [
    "sp.cos(10)"
   ]
  },
  {
   "cell_type": "markdown",
   "metadata": {},
   "source": [
    "Pour avoir une sortie type $\\LaTeX$ (plus facile à lire), il faut appeler la fonction (suivant les version, cette option est appelé par defaut) :"
   ]
  },
  {
   "cell_type": "code",
   "execution_count": 6,
   "metadata": {},
   "outputs": [],
   "source": [
    "sp.init_printing()"
   ]
  },
  {
   "cell_type": "code",
   "execution_count": 7,
   "metadata": {},
   "outputs": [
    {
     "data": {
      "image/png": "[encoded data removed]",
      "text/latex": [
       "$\\displaystyle \\cos{\\left(10 \\right)}$"
      ],
      "text/plain": [
       "cos(10)"
      ]
     },
     "execution_count": 7,
     "metadata": {},
     "output_type": "execute_result"
    }
   ],
   "source": [
    "sp.cos(10)"
   ]
  },
  {
   "cell_type": "markdown",
   "metadata": {},
   "source": [
    "## Définition des variables et fonctions"
   ]
  },
  {
   "cell_type": "markdown",
   "metadata": {},
   "source": [
    "La définition des variables symboliques se fait de la manière suivante :"
   ]
  },
  {
   "cell_type": "code",
   "execution_count": 8,
   "metadata": {},
   "outputs": [],
   "source": [
    "a , b1 , nu, t = sp.symbols('a,b_1,nu,t')"
   ]
  },
  {
   "cell_type": "code",
   "execution_count": 9,
   "metadata": {},
   "outputs": [
    {
     "data": {
      "image/png": "[encoded data removed]",
      "text/latex": [
       "$\\displaystyle a$"
      ],
      "text/plain": [
       "a"
      ]
     },
     "metadata": {},
     "output_type": "display_data"
    },
    {
     "data": {
      "image/png": "[encoded data removed]",
      "text/latex": [
       "$\\displaystyle b_{1}$"
      ],
      "text/plain": [
       "b₁"
      ]
     },
     "metadata": {},
     "output_type": "display_data"
    },
    {
     "data": {
      "image/png": "[encoded data removed]",
      "text/latex": [
       "$\\displaystyle \\nu$"
      ],
      "text/plain": [
       "ν"
      ]
     },
     "metadata": {},
     "output_type": "display_data"
    },
    {
     "data": {
      "image/png": "[encoded data removed]",
      "text/latex": [
       "$\\displaystyle t$"
      ],
      "text/plain": [
       "t"
      ]
     },
     "metadata": {},
     "output_type": "display_data"
    }
   ],
   "source": [
    "display(a , b1 , nu, t)"
   ]
  },
  {
   "cell_type": "markdown",
   "metadata": {},
   "source": [
    "Pour les fonctions, la synthaxe est identique mais on ajoute l'option \"cls=Function\" :"
   ]
  },
  {
   "cell_type": "code",
   "execution_count": 10,
   "metadata": {},
   "outputs": [
    {
     "data": {
      "image/png": "[encoded data removed]",
      "text/latex": [
       "$\\displaystyle \\theta{\\left(t \\right)}$"
      ],
      "text/plain": [
       "θ(t)"
      ]
     },
     "metadata": {},
     "output_type": "display_data"
    },
    {
     "data": {
      "image/png": "[encoded data removed]",
      "text/latex": [
       "$\\displaystyle f{\\left(t \\right)}$"
      ],
      "text/plain": [
       "f(t)"
      ]
     },
     "metadata": {},
     "output_type": "display_data"
    }
   ],
   "source": [
    "th, f = sp.symbols('theta, f',cls=sp.Function)\n",
    "display(th(t),f(t))"
   ]
  },
  {
   "cell_type": "markdown",
   "metadata": {},
   "source": [
    "## Définition d'un vecteur"
   ]
  },
  {
   "cell_type": "markdown",
   "metadata": {},
   "source": [
    "### Première possibilité"
   ]
  },
  {
   "cell_type": "markdown",
   "metadata": {},
   "source": [
    "Un vecteur peut être défini comme une matrice d'une ligne (ou colonne) :"
   ]
  },
  {
   "cell_type": "code",
   "execution_count": 11,
   "metadata": {},
   "outputs": [
    {
     "data": {
      "image/png": "[encoded data removed]",
      "text/latex": [
       "$\\displaystyle \\left[\\begin{matrix}a \\sin{\\left(\\theta{\\left(t \\right)} \\right)}\\\\- a \\nu\\end{matrix}\\right]$"
      ],
      "text/plain": [
       "⎡a⋅sin(θ(t))⎤\n",
       "⎢           ⎥\n",
       "⎣   -a⋅ν    ⎦"
      ]
     },
     "metadata": {},
     "output_type": "display_data"
    },
    {
     "data": {
      "image/png": "[encoded data removed]",
      "text/latex": [
       "$\\displaystyle \\left[\\begin{matrix}a \\sin{\\left(\\theta{\\left(t \\right)} \\right)} + b_{1} \\nu\\\\- a \\nu - b_{1} e^{f{\\left(t \\right)}}\\end{matrix}\\right]$"
      ],
      "text/plain": [
       "⎡a⋅sin(θ(t)) + b₁⋅ν⎤\n",
       "⎢                  ⎥\n",
       "⎢            f(t)  ⎥\n",
       "⎣ -a⋅ν - b₁⋅ℯ      ⎦"
      ]
     },
     "metadata": {},
     "output_type": "display_data"
    }
   ],
   "source": [
    "OA=a*sp.Matrix([sp.sin(th(t)),-nu])\n",
    "OB=OA + b1*sp.Matrix([nu,-sp.exp(f(t))])\n",
    "display(OA,OB)"
   ]
  },
  {
   "cell_type": "markdown",
   "metadata": {},
   "source": [
    "Pour les opérations comme le produit scalaire, il faut être vigilant sur l'ordre des vecteurs, on pourra transposer le vecteur avec la fonction \"T\" :"
   ]
  },
  {
   "cell_type": "code",
   "execution_count": 12,
   "metadata": {},
   "outputs": [
    {
     "data": {
      "image/png": "[encoded data removed]",
      "text/latex": [
       "$\\displaystyle \\left[\\begin{matrix}a \\sin{\\left(\\theta{\\left(t \\right)} \\right)}\\\\- a \\nu\\end{matrix}\\right]$"
      ],
      "text/plain": [
       "⎡a⋅sin(θ(t))⎤\n",
       "⎢           ⎥\n",
       "⎣   -a⋅ν    ⎦"
      ]
     },
     "metadata": {},
     "output_type": "display_data"
    },
    {
     "data": {
      "image/png": "[encoded data removed]",
      "text/latex": [
       "$\\displaystyle \\left[\\begin{matrix}a \\sin{\\left(\\theta{\\left(t \\right)} \\right)} & - a \\nu\\end{matrix}\\right]$"
      ],
      "text/plain": [
       "[a⋅sin(θ(t))  -a⋅ν]"
      ]
     },
     "metadata": {},
     "output_type": "display_data"
    }
   ],
   "source": [
    "display(OA,OA.T)"
   ]
  },
  {
   "cell_type": "markdown",
   "metadata": {},
   "source": [
    "### Seconde possibilité"
   ]
  },
  {
   "cell_type": "markdown",
   "metadata": {},
   "source": [
    "On importe le sous module \"vector\" de la librairie sympy :"
   ]
  },
  {
   "cell_type": "code",
   "execution_count": 13,
   "metadata": {},
   "outputs": [],
   "source": [
    "from sympy.vector import CoordSys3D"
   ]
  },
  {
   "cell_type": "markdown",
   "metadata": {},
   "source": [
    "Il faut définir le nom du repère (i,j,k) :"
   ]
  },
  {
   "cell_type": "code",
   "execution_count": 14,
   "metadata": {},
   "outputs": [],
   "source": [
    "O=CoordSys3D('O')"
   ]
  },
  {
   "cell_type": "markdown",
   "metadata": {},
   "source": [
    "On peut ainsi définir les vecteur en fonction du repère :"
   ]
  },
  {
   "cell_type": "code",
   "execution_count": 15,
   "metadata": {},
   "outputs": [
    {
     "data": {
      "image/png": "[encoded data removed]",
      "text/latex": [
       "$\\displaystyle (a \\sin{\\left(\\theta{\\left(t \\right)} \\right)})\\mathbf{\\hat{i}_{O}} + (- a \\nu)\\mathbf{\\hat{j}_{O}}$"
      ],
      "text/plain": [
       "(a*sin(theta(t)))*O.i + (-a*nu)*O.j"
      ]
     },
     "metadata": {},
     "output_type": "display_data"
    },
    {
     "data": {
      "image/png": "[encoded data removed]",
      "text/latex": [
       "$\\displaystyle (a \\sin{\\left(\\theta{\\left(t \\right)} \\right)} + b_{1} \\nu)\\mathbf{\\hat{i}_{O}} + (- a \\nu - b_{1} e^{f{\\left(t \\right)}})\\mathbf{\\hat{j}_{O}}$"
      ],
      "text/plain": [
       "(a*sin(theta(t)) + b_1*nu)*O.i + (-a*nu - b_1*exp(f(t)))*O.j"
      ]
     },
     "metadata": {},
     "output_type": "display_data"
    }
   ],
   "source": [
    "OAo=a*(sp.sin(th(t))*O.i-nu*O.j)\n",
    "OBo=OAo + b1*(nu*O.i-sp.exp(f(t))*O.j)\n",
    "display(OAo)\n",
    "display(OBo)"
   ]
  },
  {
   "cell_type": "markdown",
   "metadata": {},
   "source": [
    "## Opérations"
   ]
  },
  {
   "cell_type": "markdown",
   "metadata": {},
   "source": [
    "Les opérateurs de base sont pour :\n",
    "- l'addition : \"+\"\n",
    "- la soustraction : \"-\" \n",
    "- la multiplication : \"*\" \n",
    "- la puissance : \"**\""
   ]
  },
  {
   "cell_type": "code",
   "execution_count": 16,
   "metadata": {},
   "outputs": [
    {
     "data": {
      "image/png": "[encoded data removed]",
      "text/latex": [
       "$\\displaystyle 42.0$"
      ],
      "text/plain": [
       "42.0"
      ]
     },
     "metadata": {},
     "output_type": "display_data"
    },
    {
     "data": {
      "image/png": "[encoded data removed]",
      "text/latex": [
       "$\\displaystyle 42.0$"
      ],
      "text/plain": [
       "42.0"
      ]
     },
     "metadata": {},
     "output_type": "display_data"
    },
    {
     "data": {
      "image/png": "[encoded data removed]",
      "text/latex": [
       "$\\displaystyle 42.0$"
      ],
      "text/plain": [
       "42.0"
      ]
     },
     "metadata": {},
     "output_type": "display_data"
    },
    {
     "data": {
      "image/png": "[encoded data removed]",
      "text/latex": [
       "$\\displaystyle 42.0$"
      ],
      "text/plain": [
       "42.0"
      ]
     },
     "metadata": {},
     "output_type": "display_data"
    }
   ],
   "source": [
    "display(41.+1,43.-1,21*2.,(-42**0.5)**2)"
   ]
  },
  {
   "cell_type": "markdown",
   "metadata": {},
   "source": [
    "### Dérivée"
   ]
  },
  {
   "cell_type": "markdown",
   "metadata": {},
   "source": [
    "Suivant une variable :"
   ]
  },
  {
   "cell_type": "code",
   "execution_count": 17,
   "metadata": {},
   "outputs": [
    {
     "data": {
      "image/png": "[encoded data removed]",
      "text/latex": [
       "$\\displaystyle - 4 t e^{t^{2}} \\sin{\\left(e^{t^{2}} \\right)} \\cos{\\left(e^{t^{2}} \\right)} + 2 t$"
      ],
      "text/plain": [
       "       ⎛ 2⎞    ⎛ ⎛ 2⎞⎞    ⎛ ⎛ 2⎞⎞      \n",
       "       ⎝t ⎠    ⎜ ⎝t ⎠⎟    ⎜ ⎝t ⎠⎟      \n",
       "- 4⋅t⋅ℯ    ⋅sin⎝ℯ    ⎠⋅cos⎝ℯ    ⎠ + 2⋅t"
      ]
     },
     "execution_count": 17,
     "metadata": {},
     "output_type": "execute_result"
    }
   ],
   "source": [
    "sp.diff(t**2+sp.cos(sp.exp(t**2))**2,t)"
   ]
  },
  {
   "cell_type": "code",
   "execution_count": 18,
   "metadata": {},
   "outputs": [
    {
     "data": {
      "image/png": "[encoded data removed]",
      "text/latex": [
       "$\\displaystyle 8 t \\left(8 t^{2} e^{2 t^{2}} \\sin{\\left(e^{t^{2}} \\right)} \\cos{\\left(e^{t^{2}} \\right)} + 6 t^{2} e^{t^{2}} \\sin^{2}{\\left(e^{t^{2}} \\right)} - 6 t^{2} e^{t^{2}} \\cos^{2}{\\left(e^{t^{2}} \\right)} - 2 t^{2} \\sin{\\left(e^{t^{2}} \\right)} \\cos{\\left(e^{t^{2}} \\right)} + 3 e^{t^{2}} \\sin^{2}{\\left(e^{t^{2}} \\right)} - 3 e^{t^{2}} \\cos^{2}{\\left(e^{t^{2}} \\right)} - 3 \\sin{\\left(e^{t^{2}} \\right)} \\cos{\\left(e^{t^{2}} \\right)}\\right) e^{t^{2}}$"
      ],
      "text/plain": [
       "    ⎛         2    ⎛ ⎛ 2⎞⎞    ⎛ ⎛ 2⎞⎞         ⎛ 2⎞     ⎛ ⎛ 2⎞⎞         ⎛ 2⎞   \n",
       "    ⎜   2  2⋅t     ⎜ ⎝t ⎠⎟    ⎜ ⎝t ⎠⎟      2  ⎝t ⎠    2⎜ ⎝t ⎠⎟      2  ⎝t ⎠   \n",
       "8⋅t⋅⎝8⋅t ⋅ℯ    ⋅sin⎝ℯ    ⎠⋅cos⎝ℯ    ⎠ + 6⋅t ⋅ℯ    ⋅sin ⎝ℯ    ⎠ - 6⋅t ⋅ℯ    ⋅co\n",
       "\n",
       "  ⎛ ⎛ 2⎞⎞           ⎛ ⎛ 2⎞⎞    ⎛ ⎛ 2⎞⎞      ⎛ 2⎞     ⎛ ⎛ 2⎞⎞      ⎛ 2⎞     ⎛ ⎛\n",
       " 2⎜ ⎝t ⎠⎟      2    ⎜ ⎝t ⎠⎟    ⎜ ⎝t ⎠⎟      ⎝t ⎠    2⎜ ⎝t ⎠⎟      ⎝t ⎠    2⎜ ⎝\n",
       "s ⎝ℯ    ⎠ - 2⋅t ⋅sin⎝ℯ    ⎠⋅cos⎝ℯ    ⎠ + 3⋅ℯ    ⋅sin ⎝ℯ    ⎠ - 3⋅ℯ    ⋅cos ⎝ℯ \n",
       "\n",
       " 2⎞⎞        ⎛ ⎛ 2⎞⎞    ⎛ ⎛ 2⎞⎞⎞  ⎛ 2⎞\n",
       "t ⎠⎟        ⎜ ⎝t ⎠⎟    ⎜ ⎝t ⎠⎟⎟  ⎝t ⎠\n",
       "   ⎠ - 3⋅sin⎝ℯ    ⎠⋅cos⎝ℯ    ⎠⎠⋅ℯ    "
      ]
     },
     "execution_count": 18,
     "metadata": {},
     "output_type": "execute_result"
    }
   ],
   "source": [
    "sp.diff(t**2+sp.cos(sp.exp(t**2))**2,t,3)"
   ]
  },
  {
   "cell_type": "markdown",
   "metadata": {},
   "source": [
    "Suivant plusieurs variables :"
   ]
  },
  {
   "cell_type": "code",
   "execution_count": 19,
   "metadata": {},
   "outputs": [
    {
     "data": {
      "image/png": "[encoded data removed]",
      "text/latex": [
       "$\\displaystyle - 2 a \\sin{\\left(\\theta{\\left(t \\right)} \\right)} \\cos{\\left(\\theta{\\left(t \\right)} \\right)} \\frac{d}{d t} \\theta{\\left(t \\right)}$"
      ],
      "text/plain": [
       "                         d       \n",
       "-2⋅a⋅sin(θ(t))⋅cos(θ(t))⋅──(θ(t))\n",
       "                         dt      "
      ]
     },
     "execution_count": 19,
     "metadata": {},
     "output_type": "execute_result"
    }
   ],
   "source": [
    "sp.diff(a*b1*sp.cos(th(t))**2,b1,t)"
   ]
  },
  {
   "cell_type": "markdown",
   "metadata": {},
   "source": [
    "### Integrale"
   ]
  },
  {
   "cell_type": "code",
   "execution_count": 20,
   "metadata": {},
   "outputs": [
    {
     "data": {
      "image/png": "[encoded data removed]",
      "text/latex": [
       "$\\displaystyle 25 \\sqrt{\\pi} \\operatorname{erfi}{\\left(1 \\right)}$"
      ],
      "text/plain": [
       "25⋅√π⋅erfi(1)"
      ]
     },
     "execution_count": 20,
     "metadata": {},
     "output_type": "execute_result"
    }
   ],
   "source": [
    "sp.integrate(a*sp.exp(t**2),(t,0,1),(a,0,10))"
   ]
  },
  {
   "cell_type": "markdown",
   "metadata": {},
   "source": [
    "### Produit scalaire"
   ]
  },
  {
   "cell_type": "code",
   "execution_count": 21,
   "metadata": {},
   "outputs": [
    {
     "data": {
      "image/png": "[encoded data removed]",
      "text/latex": [
       "$\\displaystyle \\left[\\begin{matrix}\\left(- a \\nu - b_{1} e^{f{\\left(t \\right)}}\\right)^{2} + \\left(a \\sin{\\left(\\theta{\\left(t \\right)} \\right)} + b_{1} \\nu\\right)^{2}\\end{matrix}\\right]$"
      ],
      "text/plain": [
       "⎡                 2                        ⎤\n",
       "⎢⎛           f(t)⎞                        2⎥\n",
       "⎣⎝-a⋅ν - b₁⋅ℯ    ⎠  + (a⋅sin(θ(t)) + b₁⋅ν) ⎦"
      ]
     },
     "metadata": {},
     "output_type": "display_data"
    },
    {
     "data": {
      "image/png": "[encoded data removed]",
      "text/latex": [
       "$\\displaystyle \\left(- a \\nu - b_{1} e^{f{\\left(t \\right)}}\\right)^{2} + \\left(a \\sin{\\left(\\theta{\\left(t \\right)} \\right)} + b_{1} \\nu\\right)^{2}$"
      ],
      "text/plain": [
       "                 2                        \n",
       "⎛           f(t)⎞                        2\n",
       "⎝-a⋅ν - b₁⋅ℯ    ⎠  + (a⋅sin(θ(t)) + b₁⋅ν) "
      ]
     },
     "metadata": {},
     "output_type": "display_data"
    }
   ],
   "source": [
    "display(OB.T*OB)\n",
    "display(OBo.dot(OBo))"
   ]
  },
  {
   "cell_type": "markdown",
   "metadata": {},
   "source": [
    "### Résolution de système d'équation"
   ]
  },
  {
   "cell_type": "code",
   "execution_count": 22,
   "metadata": {},
   "outputs": [
    {
     "ename": "TypeError",
     "evalue": "linsolve() got an unexpected keyword argument 'dict'",
     "output_type": "error",
     "traceback": [
      "\u001b[1;31m---------------------------------------------------------------------------\u001b[0m",
      "\u001b[1;31mTypeError\u001b[0m                                 Traceback (most recent call last)",
      "\u001b[1;32m<ipython-input-22-19b7ea2d951b>\u001b[0m in \u001b[0;36m<module>\u001b[1;34m\u001b[0m\n\u001b[0;32m      1\u001b[0m \u001b[0mExpr\u001b[0m\u001b[1;33m=\u001b[0m\u001b[1;33m[\u001b[0m\u001b[1;36m2\u001b[0m\u001b[1;33m*\u001b[0m\u001b[0ma\u001b[0m\u001b[1;33m+\u001b[0m\u001b[0mb1\u001b[0m\u001b[1;33m-\u001b[0m\u001b[0mnu\u001b[0m\u001b[1;33m,\u001b[0m\u001b[0mnu\u001b[0m\u001b[1;33m+\u001b[0m\u001b[0mb1\u001b[0m\u001b[1;33m]\u001b[0m\u001b[1;33m\u001b[0m\u001b[1;33m\u001b[0m\u001b[0m\n\u001b[1;32m----> 2\u001b[1;33m \u001b[0mResu\u001b[0m\u001b[1;33m=\u001b[0m\u001b[0msp\u001b[0m\u001b[1;33m.\u001b[0m\u001b[0mlinsolve\u001b[0m\u001b[1;33m(\u001b[0m\u001b[0mExpr\u001b[0m\u001b[1;33m,\u001b[0m\u001b[0mb1\u001b[0m\u001b[1;33m,\u001b[0m \u001b[0mnu\u001b[0m\u001b[1;33m,\u001b[0m\u001b[0mdict\u001b[0m\u001b[1;33m=\u001b[0m\u001b[1;32mTrue\u001b[0m\u001b[1;33m)\u001b[0m\u001b[1;33m\u001b[0m\u001b[1;33m\u001b[0m\u001b[0m\n\u001b[0m\u001b[0;32m      3\u001b[0m \u001b[0mdisplay\u001b[0m\u001b[1;33m(\u001b[0m\u001b[0mResu\u001b[0m\u001b[1;33m)\u001b[0m\u001b[1;33m\u001b[0m\u001b[1;33m\u001b[0m\u001b[0m\n\u001b[0;32m      4\u001b[0m \u001b[0mdisplay\u001b[0m\u001b[1;33m(\u001b[0m\u001b[0mResu\u001b[0m\u001b[1;33m.\u001b[0m\u001b[0margs\u001b[0m\u001b[1;33m[\u001b[0m\u001b[1;36m0\u001b[0m\u001b[1;33m]\u001b[0m\u001b[1;33m[\u001b[0m\u001b[1;36m0\u001b[0m\u001b[1;33m]\u001b[0m\u001b[1;33m)\u001b[0m\u001b[1;33m\u001b[0m\u001b[1;33m\u001b[0m\u001b[0m\n",
      "\u001b[1;31mTypeError\u001b[0m: linsolve() got an unexpected keyword argument 'dict'"
     ]
    }
   ],
   "source": [
    "Expr=[2*a+b1-nu,nu+b1]\n",
    "Resu=sp.linsolve(Expr,b1, nu,dict=True)\n",
    "display(Resu)\n",
    "display(Resu.args[0][0])"
   ]
  },
  {
   "cell_type": "markdown",
   "metadata": {},
   "source": [
    "### Simplifications"
   ]
  },
  {
   "cell_type": "code",
   "execution_count": null,
   "metadata": {},
   "outputs": [],
   "source": [
    "sp.simplify(t**2+2*t+1)"
   ]
  },
  {
   "cell_type": "code",
   "execution_count": null,
   "metadata": {},
   "outputs": [],
   "source": [
    "sp.factor(t**2+2*t+1)"
   ]
  },
  {
   "cell_type": "code",
   "execution_count": null,
   "metadata": {},
   "outputs": [],
   "source": [
    "sp.expand((t+1)**5)"
   ]
  },
  {
   "cell_type": "markdown",
   "metadata": {},
   "source": [
    "### Divers"
   ]
  },
  {
   "cell_type": "markdown",
   "metadata": {},
   "source": [
    "Pour remplacer une variable on utilise la fonction \"subs\" :"
   ]
  },
  {
   "cell_type": "code",
   "execution_count": null,
   "metadata": {},
   "outputs": [],
   "source": [
    "E1=(a+b1)**2\n",
    "display(E1)\n",
    "E1=E1.subs(a,2*b1)\n",
    "display(E1)\n",
    "E1=E1.subs([(b1,-a),(a,b1-a)])\n",
    "display(E1)\n",
    "display(sp.simplify(E1))"
   ]
  },
  {
   "cell_type": "markdown",
   "metadata": {},
   "source": [
    "# Exemple d'application"
   ]
  },
  {
   "cell_type": "markdown",
   "metadata": {},
   "source": [
    "*Nous allons traiter l'exemple du double pendule libre suivant :*"
   ]
  },
  {
   "cell_type": "markdown",
   "metadata": {},
   "source": [
    " ![Double pendule](https://external-content.duckduckgo.com/iu/?u=http%3A%2F%2Fwww.vetopsy.fr%2Fmecanique-quantique%2Fimages%2Fdouble-pendule.jpg&f=1&nofb=1)"
   ]
  },
  {
   "cell_type": "markdown",
   "metadata": {},
   "source": [
    "Importation des librairies et définitions des variables et fonctions :"
   ]
  },
  {
   "cell_type": "code",
   "execution_count": null,
   "metadata": {},
   "outputs": [],
   "source": [
    "import sympy as sp\n",
    "from sympy.vector import CoordSys3D\n",
    "O=CoordSys3D('O')\n",
    "l1, l2, m1, m2, t, g = sp.symbols('l1, l2, m1, m2, t, g')\n",
    "th1, th2 = sp.symbols('theta1, theta2',cls=sp.Function)"
   ]
  },
  {
   "cell_type": "markdown",
   "metadata": {},
   "source": [
    "## Définition des vecteurs liés aux masses ponctuelles"
   ]
  },
  {
   "cell_type": "code",
   "execution_count": null,
   "metadata": {},
   "outputs": [],
   "source": [
    "O=CoordSys3D('O')\n",
    "OM1=l1*(sp.sin(th1(t))*O.i-sp.cos(th1(t))*O.j)\n",
    "OM2=sp.simplify(OM1 + l2*(sp.sin(th2(t))*O.i-sp.cos(th2(t))*O.j))\n",
    "display(\"OM1 :\" , OM1,\"OM2 :\" , OM2)"
   ]
  },
  {
   "cell_type": "markdown",
   "metadata": {},
   "source": [
    "## Calcul de l'énergie cinétique"
   ]
  },
  {
   "cell_type": "code",
   "execution_count": null,
   "metadata": {},
   "outputs": [],
   "source": [
    "Ec=(m1*sp.diff(OM1,t).dot(sp.diff(OM1,t))+m2*sp.diff(OM2,t).dot(sp.diff(OM2,t)))/2\n",
    "Ec=sp.simplify(Ec)\n",
    "display(\"Energie cinétique :\" , Ec)"
   ]
  },
  {
   "cell_type": "markdown",
   "metadata": {},
   "source": [
    "Hypothèse des petites perturbations :  \n",
    "$\\theta_1 \\approx 0$  \n",
    "$\\theta_2 \\approx 0$  \n",
    "$\\theta_1$ et $\\theta_2$ $\\ll$ $\\dot{\\theta_1}$ et $\\dot{\\theta_2}$  \n"
   ]
  },
  {
   "cell_type": "code",
   "execution_count": null,
   "metadata": {},
   "outputs": [],
   "source": [
    "Ec=Ec.subs(([(sp.cos(th1(t)-th2(t)),1)]))\n",
    "display(Ec)"
   ]
  },
  {
   "cell_type": "markdown",
   "metadata": {},
   "source": [
    "On notera pour simplifier les écritures : "
   ]
  },
  {
   "cell_type": "code",
   "execution_count": null,
   "metadata": {},
   "outputs": [],
   "source": [
    "dth1 =sp.diff(th1(t),t)\n",
    "dth2 =sp.diff(th2(t),t)"
   ]
  },
  {
   "cell_type": "markdown",
   "metadata": {},
   "source": [
    "Matrice de masse :"
   ]
  },
  {
   "cell_type": "code",
   "execution_count": null,
   "metadata": {},
   "outputs": [],
   "source": [
    "M=sp.Matrix([[sp.diff(Ec,dth1,dth1),sp.diff(Ec,dth1,dth2)],\n",
    "            [sp.diff(Ec,dth2,dth1),sp.diff(Ec,dth2,dth2)]])\n",
    "display(M)"
   ]
  },
  {
   "cell_type": "markdown",
   "metadata": {},
   "source": [
    "## Calcul de l'énergie potentielle"
   ]
  },
  {
   "cell_type": "code",
   "execution_count": null,
   "metadata": {},
   "outputs": [],
   "source": [
    "Ep=g*(m1*(OM1-OM1.subs(th1(t),0)).dot(O.j)+m2*(OM2-OM2.subs(([(th1(t),0), (th2(t),0)]))).dot(O.j))\n",
    "Ep=sp.simplify(Ep)\n",
    "display(\"Energie potentielle :\" , Ep)"
   ]
  },
  {
   "cell_type": "markdown",
   "metadata": {},
   "source": [
    "Hypothèse des petites perturbations :"
   ]
  },
  {
   "cell_type": "code",
   "execution_count": null,
   "metadata": {},
   "outputs": [],
   "source": [
    "Ep=Ep.subs(([\n",
    "   (sp.cos(th1(t)),1-th1(t)**2/2), \n",
    "    (sp.cos(th2(t)),1-th2(t)**2/2)]))\n",
    "Ep=sp.simplify(Ep)\n",
    "display(Ep)"
   ]
  },
  {
   "cell_type": "markdown",
   "metadata": {},
   "source": [
    "Matrice de raideur :"
   ]
  },
  {
   "cell_type": "code",
   "execution_count": null,
   "metadata": {},
   "outputs": [],
   "source": [
    "K=sp.Matrix([[sp.diff(Ep,th1(t),th1(t)),sp.diff(Ep,th1(t),th2(t))],\n",
    "            [sp.diff(Ep,th2(t),th1(t)),sp.diff(Ep,th2(t),th2(t))]])\n",
    "display(K)"
   ]
  },
  {
   "cell_type": "markdown",
   "metadata": {},
   "source": [
    "## Calcul des valeurs propres et vecteurs propres :"
   ]
  },
  {
   "cell_type": "markdown",
   "metadata": {},
   "source": [
    "Les valeurs propres sont obtenues par la fonction \"eigenvals()\".  \n",
    "Le résultats est donné sous la forme $\\left\\lbrace  \\right.$ *valeur propre $\\colon$ nombre d'occurence de la valeur propre* $\\left. \\right\\rbrace  $ :"
   ]
  },
  {
   "cell_type": "code",
   "execution_count": null,
   "metadata": {},
   "outputs": [],
   "source": [
    "ValProp=(M**-1*K).eigenvals()\n",
    "display(ValProp)"
   ]
  },
  {
   "cell_type": "markdown",
   "metadata": {},
   "source": [
    "Les vecteurs propres sont obtenus avec la fonction \"eigenvects()\" :"
   ]
  },
  {
   "cell_type": "code",
   "execution_count": null,
   "metadata": {},
   "outputs": [],
   "source": [
    "VectProp=(M**-1*K).eigenvects()\n",
    "display(VectProp)"
   ]
  },
  {
   "cell_type": "markdown",
   "metadata": {},
   "source": [
    "Le résultat est donné sous la forme : *valeur propre, nombre d'occurence, vecteur propre*\n",
    "Les résultats sont accessibles via :\n",
    "- Pour les valeurs propres :"
   ]
  },
  {
   "cell_type": "code",
   "execution_count": null,
   "metadata": {},
   "outputs": [],
   "source": [
    "display(VectProp[0][0])\n",
    "display(VectProp[1][0])"
   ]
  },
  {
   "cell_type": "markdown",
   "metadata": {},
   "source": [
    "Pour les vecteurs propres :"
   ]
  },
  {
   "cell_type": "code",
   "execution_count": null,
   "metadata": {},
   "outputs": [],
   "source": [
    "display(VectProp[0][2][0])\n",
    "display(VectProp[1][2][0])"
   ]
  },
  {
   "cell_type": "markdown",
   "metadata": {},
   "source": [
    "## Equation du mouvement"
   ]
  },
  {
   "cell_type": "code",
   "execution_count": null,
   "metadata": {},
   "outputs": [],
   "source": [
    "A1, A2, B1, B2 = sp.symbols('A1, A2, B1, B2')\n",
    "the=VectProp[0][2][0]*(A1*sp.cos(VectProp[0][0] * t)+B1*sp.sin(VectProp[0][0]*t))+VectProp[1][2][0]*(A2*sp.cos(VectProp[1][0]*t)+B2*sp.sin(VectProp[1][0]*t))\n",
    "the"
   ]
  },
  {
   "cell_type": "markdown",
   "metadata": {},
   "source": [
    "### Prise en compte des conditions initiales :\n",
    "On note p1,p2 les angles des masses 1 et 2 au temps 0, et v1,v2 les vitesses des masses 1 et 2 au temps 0."
   ]
  },
  {
   "cell_type": "code",
   "execution_count": null,
   "metadata": {
    "scrolled": false
   },
   "outputs": [],
   "source": [
    "from ipywidgets import interactive,interact,VBox\n",
    "import ipywidgets as widgets\n",
    "from IPython.display import clear_output\n",
    "\n",
    "Sortie1 = widgets.Output()\n",
    "\n",
    "def update1(val):\n",
    "#    clear_output(wait=True)\n",
    "#    display(p1,p2,v1,v2,Nl1,Nl2,Nm1,Nm2)\n",
    "    Resolution(val)\n",
    "    Affichage1(val)\n",
    "    return\n",
    "\n",
    "def Resolution(val):\n",
    "    #Application numérique :\n",
    "    AN={(l1,Nl1.value),(l2,Nl2.value),(m1,Nm1.value),(m2,Nm2.value),(g,9.81)}\n",
    "#Calcul des valeurs et vacteurs propres de l'AN :\n",
    "    global VP\n",
    "    VP=(M**-1*K).subs(AN).eigenvects()\n",
    "#Equation du mouvment :\n",
    "    global the2\n",
    "    the2=VP[0][2][0]*(A1*sp.cos(VP[0][0] * t)+B1*sp.sin(VP[0][0]*t))+VP[1][2][0]*(A2*sp.cos(VP[1][0]*t)+B2*sp.sin(VP[1][0]*t))\n",
    "#Conditions aux limites :\n",
    "    Resu2=sp.linsolve([the2[0].subs(t,0)-p1.value,\n",
    "                  the2[1].subs(t,0)-p2.value,\n",
    "                 sp.diff(the2[0],t).subs(t,0)-v1.value,\n",
    "                 sp.diff(the2[1],t).subs(t,0)-v2.value],A1, A2, B1, B2)\n",
    "#Application du résultats :\n",
    "    the2=the2.subs([(A1,Resu2.args[0][0]), \n",
    "                  (A2,Resu2.args[0][1]), \n",
    "                  (B1,Resu2.args[0][2]), \n",
    "                  (B2,Resu2.args[0][3])])\n",
    "    return\n",
    "\n",
    "#Nombre de périodes à afficher :\n",
    "Np=3\n",
    "\n",
    "def Affichage1(val):\n",
    "#Affichage des fréquences propres :\n",
    "    Sortie1.clear_output(wait=True)\n",
    "    #Calcul du temps  pour afficher au moins Np périodes :\n",
    "    tmax=Np*2*sp.pi/sp.Min(VP[0][0],(VP[1][0]))\n",
    "        \n",
    "#Tracés des angles des masses M1 et M2 en fonction du temps :\n",
    "    \n",
    "    p = sp.plotting.plot((the2[0],(t,0,tmax)),(the2[1],(t,0,tmax)), title=\"Angle (rad) en fonction du temps (t)\",xlabel='t', ylabel='theta',legend=True,show=False) \n",
    "    p[0].line_color = 'blue'\n",
    "    p[1].line_color = 'green'\n",
    "    p[0].label = 'M1'\n",
    "    p[1].label = 'M2' \n",
    "    \n",
    "    r = sp.symbols('r')  \n",
    "    Nt=0\n",
    "    u=sp.plotting.plot_parametric((r*sp.sin(the2[0].subs(t,Nt)),-r*sp.cos(the2[0].subs(t,Nt)), (r, 0, Nl1.value)),\n",
    "                                      (Nl1.value*sp.sin(the2[0].subs(t,Nt))+r*sp.sin(the2[1].subs(t,Nt)),-Nl1.value*sp.cos(the2[0].subs(t,Nt))-r*sp.cos(the2[1].subs(t,Nt)),(r, 0, Nl2.value)),\n",
    "                                      xlabel='x', ylabel='y',xlim=(-Nl1.value-Nl2.value,Nl1.value+Nl2.value),ylim=(-Nl1.value-Nl2.value,0),title='Position initiale',show=False)\n",
    "    u[0].line_color = 'blue'\n",
    "    u[1].line_color = 'green' \n",
    "\n",
    "    with Sortie1:\n",
    "        display(\"Fréquences propres : \"+str(sp.N(VP[0][0]**0.5/(2*sp.pi),2))+'Hz et '+str(sp.N(VP[1][0]**0.5/(2*sp.pi),2))+'Hz ')\n",
    "        display('Angles des masses M1 et M2 en fonction du temps :')\n",
    "        p.show()\n",
    "        u.show()\n",
    "    return\n",
    "\n",
    "p1=widgets.FloatSlider(description='P1 (rad):',min=-0.5, max=0.5, step=0.05, value=0.5, continuous_update=False)\n",
    "p2=widgets.FloatSlider(description='P2 (rad):',min=-0.5, max=0.5, step=0.05, value=0, continuous_update=False)\n",
    "v1=widgets.FloatSlider(description='V1 (rad/s):',min=-10, max=10, step=0.1, value=0, continuous_update=False)\n",
    "v2=widgets.FloatSlider(description='V2 (rad/s):',min=-10, max=10, step=0.1, value=0, continuous_update=False)\n",
    "Nl1=widgets.FloatSlider(description='L1 (m):',min=0.1, max=10, step=0.1, value=1, continuous_update=False)\n",
    "Nl2=widgets.FloatSlider(description='L2 (m):',min=0.1, max=10, step=0.1, value=1, continuous_update=False)\n",
    "Nm1=widgets.FloatSlider(description='m1 (kg):',min=0.1, max=10, step=0.1, value=1, continuous_update=False)\n",
    "Nm2=widgets.FloatSlider(description='m2 (kg):',min=0.1, max=10, step=0.1, value=1, continuous_update=False)\n",
    "\n",
    "display(widgets.VBox([Sortie1,p1,p2,v1,v2,Nl1,Nl2,Nm1,Nm2]))\n",
    "update1(0)\n",
    "p1.observe(update1)\n",
    "p2.observe(update1)\n",
    "v1.observe(update1)\n",
    "v2.observe(update1)\n",
    "Nl1.observe(update1)\n",
    "Nl2.observe(update1)\n",
    "Nm1.observe(update1)\n",
    "Nm2.observe(update1)\n"
   ]
  },
  {
   "cell_type": "markdown",
   "metadata": {},
   "source": [
    "\n",
    "\n",
    "\n",
    "\n",
    "\n",
    "\n",
    "\n",
    "\n",
    "\n",
    "\n",
    "\n",
    "\n",
    "\n",
    "\n",
    "\n",
    "\n",
    "\n",
    "\n"
   ]
  },
  {
   "cell_type": "code",
   "execution_count": null,
   "metadata": {},
   "outputs": [],
   "source": [
    "import time\n",
    "Sortie2 = widgets.Output()\n",
    "Bouton1 = widgets.Button(description='Animation',disabled=False,button_style='',tooltip='Cliquer ici',icon='play')\n",
    "\n",
    "display(widgets.VBox([Sortie2, Bouton1]))\n",
    "    \n",
    "Nt=0\n",
    "r = sp.symbols('r')  \n",
    "tmax=Np*2*sp.pi/sp.Min(VP[0][0],(VP[1][0]))\n",
    "q=sp.plotting.plot_parametric((r*sp.sin(the2[0].subs(t,Nt)),-r*sp.cos(the2[0].subs(t,Nt)), (r, 0, Nl1.value)),\n",
    "                                      (Nl1.value*sp.sin(the2[0].subs(t,Nt))+r*sp.sin(the2[1].subs(t,Nt)),-Nl1.value*sp.cos(the2[0].subs(t,Nt))-r*sp.cos(the2[1].subs(t,Nt)),(r, 0, Nl2.value)),\n",
    "                                      xlabel='x', ylabel='y',xlim=(-Nl1.value-Nl2.value,Nl1.value+Nl2.value),ylim=(-Nl1.value-Nl2.value,0),title='t='+str(sp.N(Nt,2))+'/'+str(sp.N(tmax,2))+'s',show=False)\n",
    "q[0].line_color = 'blue'\n",
    "q[1].line_color = 'green' \n",
    "with Sortie2:\n",
    "    q.show()\n",
    "    \n",
    "def Anime1(val):\n",
    "    for i in range(100):\n",
    "        time.sleep(0.005)\n",
    "        #Calcul du temps  pour afficher au moins Np périodes :\n",
    "        tmax=Np*2*sp.pi/sp.Min(VP[0][0],(VP[1][0]))\n",
    "        Nt=i/100*tmax\n",
    "        r = sp.symbols('r')  \n",
    "        q=sp.plotting.plot_parametric((r*sp.sin(the2[0].subs(t,Nt)),-r*sp.cos(the2[0].subs(t,Nt)), (r, 0, Nl1.value)),\n",
    "                                      (Nl1.value*sp.sin(the2[0].subs(t,Nt))+r*sp.sin(the2[1].subs(t,Nt)),-Nl1.value*sp.cos(the2[0].subs(t,Nt))-r*sp.cos(the2[1].subs(t,Nt)),(r, 0, Nl2.value)),\n",
    "                                      xlabel='x', ylabel='y',xlim=(-Nl1.value-Nl2.value,Nl1.value+Nl2.value),ylim=(-Nl1.value-Nl2.value,0),title='t='+str(sp.N(Nt,2))+'/'+str(sp.N(tmax,2))+'s',show=False)\n",
    "        q[0].line_color = 'blue'\n",
    "        q[1].line_color = 'green'\n",
    "        Sortie2.clear_output(wait=True)\n",
    "        with Sortie2:\n",
    "            q.show()\n",
    "    return\n",
    "    \n",
    "Bouton1.on_click(Anime1)"
   ]
  }
 ],
 "metadata": {
  "kernelspec": {
   "display_name": "Python 3",
   "language": "python",
   "name": "python3"
  },
  "language_info": {
   "codemirror_mode": {
    "name": "ipython",
    "version": 3
   },
   "file_extension": ".py",
   "mimetype": "text/x-python",
   "name": "python",
   "nbconvert_exporter": "python",
   "pygments_lexer": "ipython3",
   "version": "3.8.3"
  }
 },
 "nbformat": 4,
 "nbformat_minor": 4
}
